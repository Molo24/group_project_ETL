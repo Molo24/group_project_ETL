{
  "nbformat": 4,
  "nbformat_minor": 0,
  "metadata": {
    "colab": {
      "name": "Group_Project_ETL.ipynb",
      "provenance": []
    },
    "kernelspec": {
      "name": "python3",
      "display_name": "Python 3"
    },
    "language_info": {
      "name": "python"
    }
  },
  "cells": [
    {
      "cell_type": "markdown",
      "source": [
        "# **ETL process from S3 to PostgreSQL using Google Colab and PySpark**"
      ],
      "metadata": {
        "id": "5yC-wOC71Tso"
      }
    },
    {
      "cell_type": "markdown",
      "source": [
        "# Load PySpark"
      ],
      "metadata": {
        "id": "zFjjcrAWuToI"
      }
    },
    {
      "cell_type": "code",
      "execution_count": 532,
      "metadata": {
        "colab": {
          "base_uri": "https://localhost:8080/"
        },
        "id": "TaXkD4mzwjtu",
        "outputId": "0846cc0e-0a7f-4ce0-95ba-bab7e0e9db76"
      },
      "outputs": [
        {
          "output_type": "stream",
          "name": "stdout",
          "text": [
            "Hit:1 https://cloud.r-project.org/bin/linux/ubuntu bionic-cran40/ InRelease\n",
            "Hit:2 http://ppa.launchpad.net/c2d4u.team/c2d4u4.0+/ubuntu bionic InRelease\n",
            "Get:3 http://security.ubuntu.com/ubuntu bionic-security InRelease [88.7 kB]\n",
            "Hit:4 http://archive.ubuntu.com/ubuntu bionic InRelease\n",
            "Get:5 http://archive.ubuntu.com/ubuntu bionic-updates InRelease [88.7 kB]\n",
            "Hit:6 http://ppa.launchpad.net/cran/libgit2/ubuntu bionic InRelease\n",
            "Hit:7 http://ppa.launchpad.net/deadsnakes/ppa/ubuntu bionic InRelease\n",
            "Get:8 http://archive.ubuntu.com/ubuntu bionic-backports InRelease [74.6 kB]\n",
            "Hit:9 http://ppa.launchpad.net/graphics-drivers/ppa/ubuntu bionic InRelease\n",
            "Ign:10 https://developer.download.nvidia.com/compute/cuda/repos/ubuntu1804/x86_64  InRelease\n",
            "Ign:11 https://developer.download.nvidia.com/compute/machine-learning/repos/ubuntu1804/x86_64  InRelease\n",
            "Hit:12 https://developer.download.nvidia.com/compute/cuda/repos/ubuntu1804/x86_64  Release\n",
            "Hit:13 https://developer.download.nvidia.com/compute/machine-learning/repos/ubuntu1804/x86_64  Release\n",
            "Fetched 252 kB in 3s (98.6 kB/s)\n",
            "Reading package lists... Done\n"
          ]
        }
      ],
      "source": [
        "# Install PySpark\n",
        "import os\n",
        "spark_version = 'spark-3.0.3'\n",
        "os.environ['SPARK_VERSION']=spark_version\n",
        "\n",
        "# Install Spark and Java\n",
        "!apt-get update\n",
        "!apt-get install openjdk-11-jdk-headless -qq > /dev/null\n",
        "!wget -q http://www.apache.org/dist/spark/$SPARK_VERSION/$SPARK_VERSION-bin-hadoop2.7.tgz\n",
        "!tar xf $SPARK_VERSION-bin-hadoop2.7.tgz\n",
        "!pip install -q findspark\n",
        "\n",
        "# Set Environment Variables\n",
        "import os\n",
        "os.environ[\"JAVA_HOME\"] = \"/usr/lib/jvm/java-11-openjdk-amd64\"\n",
        "os.environ[\"SPARK_HOME\"] = f\"/content/{spark_version}-bin-hadoop2.7\"\n",
        "\n",
        "# Start a SparkSession\n",
        "import findspark\n",
        "findspark.init()"
      ]
    },
    {
      "cell_type": "code",
      "source": [
        "# Download the Postgres driver that will allow Spark to interact with Postgres.\n",
        "!wget https://jdbc.postgresql.org/download/postgresql-42.2.16.jar\n",
        "# !wget https://jdbc.postgresql.org/download/postgresql-42.3.1.jar"
      ],
      "metadata": {
        "colab": {
          "base_uri": "https://localhost:8080/"
        },
        "id": "iY4eUINuxPMZ",
        "outputId": "cdb87804-e2aa-47bc-a3ac-dc7340e4abc8"
      },
      "execution_count": 533,
      "outputs": [
        {
          "output_type": "stream",
          "name": "stdout",
          "text": [
            "--2022-01-24 03:41:45--  https://jdbc.postgresql.org/download/postgresql-42.2.16.jar\n",
            "Resolving jdbc.postgresql.org (jdbc.postgresql.org)... 72.32.157.228, 2001:4800:3e1:1::228\n",
            "Connecting to jdbc.postgresql.org (jdbc.postgresql.org)|72.32.157.228|:443... connected.\n",
            "HTTP request sent, awaiting response... 200 OK\n",
            "Length: 1002883 (979K) [application/java-archive]\n",
            "Saving to: ‘postgresql-42.2.16.jar.5’\n",
            "\n",
            "postgresql-42.2.16. 100%[===================>] 979.38K  --.-KB/s    in 0.1s    \n",
            "\n",
            "2022-01-24 03:41:45 (6.60 MB/s) - ‘postgresql-42.2.16.jar.5’ saved [1002883/1002883]\n",
            "\n"
          ]
        }
      ]
    },
    {
      "cell_type": "code",
      "source": [
        "# Start Spark session\n",
        "from pyspark.sql import SparkSession\n",
        "spark = SparkSession.builder.appName(\"DataFrameBasics\").getOrCreate()"
      ],
      "metadata": {
        "id": "v1s7oOd8xHeG"
      },
      "execution_count": 534,
      "outputs": []
    },
    {
      "cell_type": "code",
      "source": [
        "# Load SparkFile module\n",
        "from pyspark import SparkFiles"
      ],
      "metadata": {
        "id": "qiJvypoE5C6v"
      },
      "execution_count": 535,
      "outputs": []
    },
    {
      "cell_type": "markdown",
      "source": [
        "# **ETL Process for all 12 datasets**"
      ],
      "metadata": {
        "id": "OnR1SbRcKziM"
      }
    },
    {
      "cell_type": "markdown",
      "source": [
        "# 1 - country_list_df"
      ],
      "metadata": {
        "id": "U9qwiZuYLAYf"
      }
    },
    {
      "cell_type": "markdown",
      "source": [
        "## Extract"
      ],
      "metadata": {
        "id": "QQKxABlCuwpW"
      }
    },
    {
      "cell_type": "code",
      "source": [
        "# Read in Country data from S3 Bucket\n",
        "url = \"https://corti-gw-group-project.s3.amazonaws.com/Unprocessed+Data/UN_Country.csv\"\n",
        "spark.sparkContext.addFile(url)\n",
        "country_list_df = spark.read.csv(SparkFiles.get(\"UN_Country.csv\"), sep=\",\", header=True, inferSchema=True)"
      ],
      "metadata": {
        "id": "O2NBJLDf0gE4"
      },
      "execution_count": 536,
      "outputs": []
    },
    {
      "cell_type": "code",
      "source": [
        "# Show Country DataFrame and data types\n",
        "country_list_df.show()\n",
        "country_list_df.dtypes"
      ],
      "metadata": {
        "colab": {
          "base_uri": "https://localhost:8080/"
        },
        "id": "9kM9ZwDi02FQ",
        "outputId": "2ad65241-f0e5-4f14-acff-918b08897828"
      },
      "execution_count": 537,
      "outputs": [
        {
          "output_type": "stream",
          "name": "stdout",
          "text": [
            "+------------+-------------------+\n",
            "|country_code|       country_name|\n",
            "+------------+-------------------+\n",
            "|           4|        Afghanistan|\n",
            "|           8|            Albania|\n",
            "|          12|            Algeria|\n",
            "|          16|     American Samoa|\n",
            "|          20|            Andorra|\n",
            "|          24|             Angola|\n",
            "|         660|           Anguilla|\n",
            "|          28|Antigua and Barbuda|\n",
            "|          32|          Argentina|\n",
            "|          51|            Armenia|\n",
            "|         533|              Aruba|\n",
            "|          36|          Australia|\n",
            "|          40|            Austria|\n",
            "|          31|         Azerbaijan|\n",
            "|          44|            Bahamas|\n",
            "|          48|            Bahrain|\n",
            "|          50|         Bangladesh|\n",
            "|          52|           Barbados|\n",
            "|         112|            Belarus|\n",
            "|          56|            Belgium|\n",
            "+------------+-------------------+\n",
            "only showing top 20 rows\n",
            "\n"
          ]
        },
        {
          "output_type": "execute_result",
          "data": {
            "text/plain": [
              "[('country_code', 'int'), ('country_name', 'string')]"
            ]
          },
          "metadata": {},
          "execution_count": 537
        }
      ]
    },
    {
      "cell_type": "code",
      "source": [
        "# Row and column count pre-cleaning\n",
        "print(country_list_df.count(), len(country_list_df.columns))"
      ],
      "metadata": {
        "colab": {
          "base_uri": "https://localhost:8080/"
        },
        "id": "Fxts3XL0L0eX",
        "outputId": "e4aa72bb-cb85-453d-8cc5-40c92f5734af"
      },
      "execution_count": 538,
      "outputs": [
        {
          "output_type": "stream",
          "name": "stdout",
          "text": [
            "235 2\n"
          ]
        }
      ]
    },
    {
      "cell_type": "markdown",
      "source": [
        "## Transform"
      ],
      "metadata": {
        "id": "H6VLY1-Cu2w-"
      }
    },
    {
      "cell_type": "code",
      "source": [
        "# Drop Nulls\n",
        "country_list_df = country_list_df.dropna()"
      ],
      "metadata": {
        "id": "8tCvluglLFZ2"
      },
      "execution_count": 539,
      "outputs": []
    },
    {
      "cell_type": "code",
      "source": [
        "# Row and column count post-cleaning\n",
        "print(country_list_df.count(), len(country_list_df.columns))"
      ],
      "metadata": {
        "colab": {
          "base_uri": "https://localhost:8080/"
        },
        "id": "HjcAV7YoMNU0",
        "outputId": "75773808-91fe-4d03-8503-e1ca6295f7f8"
      },
      "execution_count": 540,
      "outputs": [
        {
          "output_type": "stream",
          "name": "stdout",
          "text": [
            "235 2\n"
          ]
        }
      ]
    },
    {
      "cell_type": "code",
      "source": [
        "country_list_df.show()\n",
        "country_list_df.dtypes"
      ],
      "metadata": {
        "colab": {
          "base_uri": "https://localhost:8080/"
        },
        "id": "hLwO5h5NP_j5",
        "outputId": "56a81ca6-770e-4e7f-f578-a8300bb575ef"
      },
      "execution_count": 541,
      "outputs": [
        {
          "output_type": "stream",
          "name": "stdout",
          "text": [
            "+------------+-------------------+\n",
            "|country_code|       country_name|\n",
            "+------------+-------------------+\n",
            "|           4|        Afghanistan|\n",
            "|           8|            Albania|\n",
            "|          12|            Algeria|\n",
            "|          16|     American Samoa|\n",
            "|          20|            Andorra|\n",
            "|          24|             Angola|\n",
            "|         660|           Anguilla|\n",
            "|          28|Antigua and Barbuda|\n",
            "|          32|          Argentina|\n",
            "|          51|            Armenia|\n",
            "|         533|              Aruba|\n",
            "|          36|          Australia|\n",
            "|          40|            Austria|\n",
            "|          31|         Azerbaijan|\n",
            "|          44|            Bahamas|\n",
            "|          48|            Bahrain|\n",
            "|          50|         Bangladesh|\n",
            "|          52|           Barbados|\n",
            "|         112|            Belarus|\n",
            "|          56|            Belgium|\n",
            "+------------+-------------------+\n",
            "only showing top 20 rows\n",
            "\n"
          ]
        },
        {
          "output_type": "execute_result",
          "data": {
            "text/plain": [
              "[('country_code', 'int'), ('country_name', 'string')]"
            ]
          },
          "metadata": {},
          "execution_count": 541
        }
      ]
    },
    {
      "cell_type": "markdown",
      "source": [
        "## Load"
      ],
      "metadata": {
        "id": "NVbc7W1Uu6mC"
      }
    },
    {
      "cell_type": "code",
      "source": [
        "# Store environmental variable\n",
        "from getpass import getpass\n",
        "#password = getpass('Enter PW')\n",
        "password = 'happiness'"
      ],
      "metadata": {
        "id": "m2QTyteg0nVD"
      },
      "execution_count": 635,
      "outputs": []
    },
    {
      "cell_type": "code",
      "source": [
        "# Configure settings for RDS\n",
        "mode = \"overwrite\"\n",
        "jdbc_url=\"jdbc:postgresql://group-project-v2.ctg85syqs9uc.us-east-1.rds.amazonaws.com:5432/AWS-group-project-v2\"\n",
        "config = {\"user\":\"postgres\", \n",
        "          \"password\": password, \n",
        "          \"driver\":\"org.postgresql.Driver\"}"
      ],
      "metadata": {
        "id": "-BMNSY1r2jWO"
      },
      "execution_count": 636,
      "outputs": []
    },
    {
      "cell_type": "code",
      "source": [
        "# Write county_list_df to table in RDS\n",
        "country_list_df.write.jdbc(url=jdbc_url, table='country', mode=mode, properties=config)"
      ],
      "metadata": {
        "colab": {
          "base_uri": "https://localhost:8080/",
          "height": 1000
        },
        "id": "1CjvicVk4Jjs",
        "outputId": "84349eb1-0958-424c-a085-51b9891206a0"
      },
      "execution_count": 637,
      "outputs": [
        {
          "output_type": "error",
          "ename": "Py4JJavaError",
          "evalue": "ignored",
          "traceback": [
            "\u001b[0;31m---------------------------------------------------------------------------\u001b[0m",
            "\u001b[0;31mPy4JJavaError\u001b[0m                             Traceback (most recent call last)",
            "\u001b[0;32m<ipython-input-637-bef543b0356a>\u001b[0m in \u001b[0;36m<module>\u001b[0;34m()\u001b[0m\n\u001b[1;32m      1\u001b[0m \u001b[0;31m# Write county_list_df to table in RDS\u001b[0m\u001b[0;34m\u001b[0m\u001b[0;34m\u001b[0m\u001b[0;34m\u001b[0m\u001b[0m\n\u001b[0;32m----> 2\u001b[0;31m \u001b[0mcountry_list_df\u001b[0m\u001b[0;34m.\u001b[0m\u001b[0mwrite\u001b[0m\u001b[0;34m.\u001b[0m\u001b[0mjdbc\u001b[0m\u001b[0;34m(\u001b[0m\u001b[0murl\u001b[0m\u001b[0;34m=\u001b[0m\u001b[0mjdbc_url\u001b[0m\u001b[0;34m,\u001b[0m \u001b[0mtable\u001b[0m\u001b[0;34m=\u001b[0m\u001b[0;34m'country'\u001b[0m\u001b[0;34m,\u001b[0m \u001b[0mmode\u001b[0m\u001b[0;34m=\u001b[0m\u001b[0mmode\u001b[0m\u001b[0;34m,\u001b[0m \u001b[0mproperties\u001b[0m\u001b[0;34m=\u001b[0m\u001b[0mconfig\u001b[0m\u001b[0;34m)\u001b[0m\u001b[0;34m\u001b[0m\u001b[0;34m\u001b[0m\u001b[0m\n\u001b[0m",
            "\u001b[0;32m/content/spark-3.0.3-bin-hadoop2.7/python/pyspark/sql/readwriter.py\u001b[0m in \u001b[0;36mjdbc\u001b[0;34m(self, url, table, mode, properties)\u001b[0m\n\u001b[1;32m   1083\u001b[0m         \u001b[0;32mfor\u001b[0m \u001b[0mk\u001b[0m \u001b[0;32min\u001b[0m \u001b[0mproperties\u001b[0m\u001b[0;34m:\u001b[0m\u001b[0;34m\u001b[0m\u001b[0;34m\u001b[0m\u001b[0m\n\u001b[1;32m   1084\u001b[0m             \u001b[0mjprop\u001b[0m\u001b[0;34m.\u001b[0m\u001b[0msetProperty\u001b[0m\u001b[0;34m(\u001b[0m\u001b[0mk\u001b[0m\u001b[0;34m,\u001b[0m \u001b[0mproperties\u001b[0m\u001b[0;34m[\u001b[0m\u001b[0mk\u001b[0m\u001b[0;34m]\u001b[0m\u001b[0;34m)\u001b[0m\u001b[0;34m\u001b[0m\u001b[0;34m\u001b[0m\u001b[0m\n\u001b[0;32m-> 1085\u001b[0;31m         \u001b[0mself\u001b[0m\u001b[0;34m.\u001b[0m\u001b[0mmode\u001b[0m\u001b[0;34m(\u001b[0m\u001b[0mmode\u001b[0m\u001b[0;34m)\u001b[0m\u001b[0;34m.\u001b[0m\u001b[0m_jwrite\u001b[0m\u001b[0;34m.\u001b[0m\u001b[0mjdbc\u001b[0m\u001b[0;34m(\u001b[0m\u001b[0murl\u001b[0m\u001b[0;34m,\u001b[0m \u001b[0mtable\u001b[0m\u001b[0;34m,\u001b[0m \u001b[0mjprop\u001b[0m\u001b[0;34m)\u001b[0m\u001b[0;34m\u001b[0m\u001b[0;34m\u001b[0m\u001b[0m\n\u001b[0m\u001b[1;32m   1086\u001b[0m \u001b[0;34m\u001b[0m\u001b[0m\n\u001b[1;32m   1087\u001b[0m \u001b[0;34m\u001b[0m\u001b[0m\n",
            "\u001b[0;32m/content/spark-3.0.3-bin-hadoop2.7/python/lib/py4j-0.10.9-src.zip/py4j/java_gateway.py\u001b[0m in \u001b[0;36m__call__\u001b[0;34m(self, *args)\u001b[0m\n\u001b[1;32m   1303\u001b[0m         \u001b[0manswer\u001b[0m \u001b[0;34m=\u001b[0m \u001b[0mself\u001b[0m\u001b[0;34m.\u001b[0m\u001b[0mgateway_client\u001b[0m\u001b[0;34m.\u001b[0m\u001b[0msend_command\u001b[0m\u001b[0;34m(\u001b[0m\u001b[0mcommand\u001b[0m\u001b[0;34m)\u001b[0m\u001b[0;34m\u001b[0m\u001b[0;34m\u001b[0m\u001b[0m\n\u001b[1;32m   1304\u001b[0m         return_value = get_return_value(\n\u001b[0;32m-> 1305\u001b[0;31m             answer, self.gateway_client, self.target_id, self.name)\n\u001b[0m\u001b[1;32m   1306\u001b[0m \u001b[0;34m\u001b[0m\u001b[0m\n\u001b[1;32m   1307\u001b[0m         \u001b[0;32mfor\u001b[0m \u001b[0mtemp_arg\u001b[0m \u001b[0;32min\u001b[0m \u001b[0mtemp_args\u001b[0m\u001b[0;34m:\u001b[0m\u001b[0;34m\u001b[0m\u001b[0;34m\u001b[0m\u001b[0m\n",
            "\u001b[0;32m/content/spark-3.0.3-bin-hadoop2.7/python/pyspark/sql/utils.py\u001b[0m in \u001b[0;36mdeco\u001b[0;34m(*a, **kw)\u001b[0m\n\u001b[1;32m    126\u001b[0m     \u001b[0;32mdef\u001b[0m \u001b[0mdeco\u001b[0m\u001b[0;34m(\u001b[0m\u001b[0;34m*\u001b[0m\u001b[0ma\u001b[0m\u001b[0;34m,\u001b[0m \u001b[0;34m**\u001b[0m\u001b[0mkw\u001b[0m\u001b[0;34m)\u001b[0m\u001b[0;34m:\u001b[0m\u001b[0;34m\u001b[0m\u001b[0;34m\u001b[0m\u001b[0m\n\u001b[1;32m    127\u001b[0m         \u001b[0;32mtry\u001b[0m\u001b[0;34m:\u001b[0m\u001b[0;34m\u001b[0m\u001b[0;34m\u001b[0m\u001b[0m\n\u001b[0;32m--> 128\u001b[0;31m             \u001b[0;32mreturn\u001b[0m \u001b[0mf\u001b[0m\u001b[0;34m(\u001b[0m\u001b[0;34m*\u001b[0m\u001b[0ma\u001b[0m\u001b[0;34m,\u001b[0m \u001b[0;34m**\u001b[0m\u001b[0mkw\u001b[0m\u001b[0;34m)\u001b[0m\u001b[0;34m\u001b[0m\u001b[0;34m\u001b[0m\u001b[0m\n\u001b[0m\u001b[1;32m    129\u001b[0m         \u001b[0;32mexcept\u001b[0m \u001b[0mpy4j\u001b[0m\u001b[0;34m.\u001b[0m\u001b[0mprotocol\u001b[0m\u001b[0;34m.\u001b[0m\u001b[0mPy4JJavaError\u001b[0m \u001b[0;32mas\u001b[0m \u001b[0me\u001b[0m\u001b[0;34m:\u001b[0m\u001b[0;34m\u001b[0m\u001b[0;34m\u001b[0m\u001b[0m\n\u001b[1;32m    130\u001b[0m             \u001b[0mconverted\u001b[0m \u001b[0;34m=\u001b[0m \u001b[0mconvert_exception\u001b[0m\u001b[0;34m(\u001b[0m\u001b[0me\u001b[0m\u001b[0;34m.\u001b[0m\u001b[0mjava_exception\u001b[0m\u001b[0;34m)\u001b[0m\u001b[0;34m\u001b[0m\u001b[0;34m\u001b[0m\u001b[0m\n",
            "\u001b[0;32m/content/spark-3.0.3-bin-hadoop2.7/python/lib/py4j-0.10.9-src.zip/py4j/protocol.py\u001b[0m in \u001b[0;36mget_return_value\u001b[0;34m(answer, gateway_client, target_id, name)\u001b[0m\n\u001b[1;32m    326\u001b[0m                 raise Py4JJavaError(\n\u001b[1;32m    327\u001b[0m                     \u001b[0;34m\"An error occurred while calling {0}{1}{2}.\\n\"\u001b[0m\u001b[0;34m.\u001b[0m\u001b[0;34m\u001b[0m\u001b[0;34m\u001b[0m\u001b[0m\n\u001b[0;32m--> 328\u001b[0;31m                     format(target_id, \".\", name), value)\n\u001b[0m\u001b[1;32m    329\u001b[0m             \u001b[0;32melse\u001b[0m\u001b[0;34m:\u001b[0m\u001b[0;34m\u001b[0m\u001b[0;34m\u001b[0m\u001b[0m\n\u001b[1;32m    330\u001b[0m                 raise Py4JError(\n",
            "\u001b[0;31mPy4JJavaError\u001b[0m: An error occurred while calling o1714.jdbc.\n: java.lang.ClassNotFoundException: org.postgresql.Driver\n\tat java.base/java.net.URLClassLoader.findClass(URLClassLoader.java:476)\n\tat java.base/java.lang.ClassLoader.loadClass(ClassLoader.java:589)\n\tat java.base/java.lang.ClassLoader.loadClass(ClassLoader.java:522)\n\tat org.apache.spark.sql.execution.datasources.jdbc.DriverRegistry$.register(DriverRegistry.scala:45)\n\tat org.apache.spark.sql.execution.datasources.jdbc.JDBCOptions.$anonfun$driverClass$1(JDBCOptions.scala:99)\n\tat org.apache.spark.sql.execution.datasources.jdbc.JDBCOptions.$anonfun$driverClass$1$adapted(JDBCOptions.scala:99)\n\tat scala.Option.foreach(Option.scala:407)\n\tat org.apache.spark.sql.execution.datasources.jdbc.JDBCOptions.<init>(JDBCOptions.scala:99)\n\tat org.apache.spark.sql.execution.datasources.jdbc.JdbcOptionsInWrite.<init>(JDBCOptions.scala:194)\n\tat org.apache.spark.sql.execution.datasources.jdbc.JdbcOptionsInWrite.<init>(JDBCOptions.scala:198)\n\tat org.apache.spark.sql.execution.datasources.jdbc.JdbcRelationProvider.createRelation(JdbcRelationProvider.scala:45)\n\tat org.apache.spark.sql.execution.datasources.SaveIntoDataSourceCommand.run(SaveIntoDataSourceCommand.scala:46)\n\tat org.apache.spark.sql.execution.command.ExecutedCommandExec.sideEffectResult$lzycompute(commands.scala:70)\n\tat org.apache.spark.sql.execution.command.ExecutedCommandExec.sideEffectResult(commands.scala:68)\n\tat org.apache.spark.sql.execution.command.ExecutedCommandExec.doExecute(commands.scala:90)\n\tat org.apache.spark.sql.execution.SparkPlan.$anonfun$execute$1(SparkPlan.scala:180)\n\tat org.apache.spark.sql.execution.SparkPlan.$anonfun$executeQuery$1(SparkPlan.scala:218)\n\tat org.apache.spark.rdd.RDDOperationScope$.withScope(RDDOperationScope.scala:151)\n\tat org.apache.spark.sql.execution.SparkPlan.executeQuery(SparkPlan.scala:215)\n\tat org.apache.spark.sql.execution.SparkPlan.execute(SparkPlan.scala:176)\n\tat org.apache.spark.sql.execution.QueryExecution.toRdd$lzycompute(QueryExecution.scala:127)\n\tat org.apache.spark.sql.execution.QueryExecution.toRdd(QueryExecution.scala:126)\n\tat org.apache.spark.sql.DataFrameWriter.$anonfun$runCommand$1(DataFrameWriter.scala:962)\n\tat org.apache.spark.sql.execution.SQLExecution$.$anonfun$withNewExecutionId$5(SQLExecution.scala:100)\n\tat org.apache.spark.sql.execution.SQLExecution$.withSQLConfPropagated(SQLExecution.scala:160)\n\tat org.apache.spark.sql.execution.SQLExecution$.$anonfun$withNewExecutionId$1(SQLExecution.scala:87)\n\tat org.apache.spark.sql.SparkSession.withActive(SparkSession.scala:767)\n\tat org.apache.spark.sql.execution.SQLExecution$.withNewExecutionId(SQLExecution.scala:64)\n\tat org.apache.spark.sql.DataFrameWriter.runCommand(DataFrameWriter.scala:962)\n\tat org.apache.spark.sql.DataFrameWriter.saveToV1Source(DataFrameWriter.scala:414)\n\tat org.apache.spark.sql.DataFrameWriter.save(DataFrameWriter.scala:398)\n\tat org.apache.spark.sql.DataFrameWriter.jdbc(DataFrameWriter.scala:790)\n\tat java.base/jdk.internal.reflect.NativeMethodAccessorImpl.invoke0(Native Method)\n\tat java.base/jdk.internal.reflect.NativeMethodAccessorImpl.invoke(NativeMethodAccessorImpl.java:62)\n\tat java.base/jdk.internal.reflect.DelegatingMethodAccessorImpl.invoke(DelegatingMethodAccessorImpl.java:43)\n\tat java.base/java.lang.reflect.Method.invoke(Method.java:566)\n\tat py4j.reflection.MethodInvoker.invoke(MethodInvoker.java:244)\n\tat py4j.reflection.ReflectionEngine.invoke(ReflectionEngine.java:357)\n\tat py4j.Gateway.invoke(Gateway.java:282)\n\tat py4j.commands.AbstractCommand.invokeMethod(AbstractCommand.java:132)\n\tat py4j.commands.CallCommand.execute(CallCommand.java:79)\n\tat py4j.GatewayConnection.run(GatewayConnection.java:238)\n\tat java.base/java.lang.Thread.run(Thread.java:829)\n"
          ]
        }
      ]
    },
    {
      "cell_type": "markdown",
      "source": [
        "\n",
        "\n",
        "---\n",
        "\n"
      ],
      "metadata": {
        "id": "BezpdsG1T69U"
      }
    },
    {
      "cell_type": "markdown",
      "source": [
        "# 2 - demoracy_index_df"
      ],
      "metadata": {
        "id": "X4-ZUeoeLFvF"
      }
    },
    {
      "cell_type": "markdown",
      "source": [
        "## Extract"
      ],
      "metadata": {
        "id": "XA8_qaCUvC1U"
      }
    },
    {
      "cell_type": "code",
      "source": [
        "# Read in Democracy Index data from S3 Bucket\n",
        "url = \"https://corti-gw-group-project.s3.amazonaws.com/Unprocessed+Data/Democracy_Index_2019.csv\"\n",
        "spark.sparkContext.addFile(url)\n",
        "demoracy_index_df = spark.read.csv(SparkFiles.get(\"Democracy_Index_2019.csv\"), sep=\",\", header=True, inferSchema=True)"
      ],
      "metadata": {
        "id": "asKyf9fh_4sw"
      },
      "execution_count": 545,
      "outputs": []
    },
    {
      "cell_type": "code",
      "source": [
        "demoracy_index_df.show()\n",
        "demoracy_index_df.dtypes"
      ],
      "metadata": {
        "colab": {
          "base_uri": "https://localhost:8080/"
        },
        "id": "OELDgDKJALLa",
        "outputId": "a37802eb-4181-4e5f-ee40-266990a919a5"
      },
      "execution_count": 546,
      "outputs": [
        {
          "output_type": "stream",
          "name": "stdout",
          "text": [
            "+------------+--------------------+----+---------------------+\n",
            "|country_code|        country_name|  yr|Democracy index (EIU)|\n",
            "+------------+--------------------+----+---------------------+\n",
            "|           4|         Afghanistan|2019|                 28.5|\n",
            "|           8|             Albania|2019|                 58.9|\n",
            "|          12|             Algeria|2019|                 40.1|\n",
            "|          24|              Angola|2019|                 37.2|\n",
            "|          32|           Argentina|2019|                 70.2|\n",
            "|          51|             Armenia|2019|                 55.4|\n",
            "|          36|           Australia|2019|                 90.9|\n",
            "|          40|             Austria|2019|                 82.9|\n",
            "|          31|          Azerbaijan|2019|                 27.5|\n",
            "|          48|             Bahrain|2019|                 25.5|\n",
            "|          50|          Bangladesh|2019|                 58.8|\n",
            "|         112|             Belarus|2019|                 24.8|\n",
            "|          56|             Belgium|2019|                 76.4|\n",
            "|         204|               Benin|2019|                 50.9|\n",
            "|          64|              Bhutan|2019|                 53.0|\n",
            "|          68|Bolivia (Plurin. ...|2019|                 48.4|\n",
            "|          70|Bosnia and Herzeg...|2019|                 48.6|\n",
            "|          72|            Botswana|2019|                 78.1|\n",
            "|          76|              Brazil|2019|                 68.6|\n",
            "|         100|            Bulgaria|2019|                 70.3|\n",
            "+------------+--------------------+----+---------------------+\n",
            "only showing top 20 rows\n",
            "\n"
          ]
        },
        {
          "output_type": "execute_result",
          "data": {
            "text/plain": [
              "[('country_code', 'int'),\n",
              " ('country_name', 'string'),\n",
              " ('yr', 'int'),\n",
              " ('Democracy index (EIU)', 'double')]"
            ]
          },
          "metadata": {},
          "execution_count": 546
        }
      ]
    },
    {
      "cell_type": "code",
      "source": [
        "# Row and column count pre-cleaning\n",
        "print(demoracy_index_df.count(), len(demoracy_index_df.columns))"
      ],
      "metadata": {
        "colab": {
          "base_uri": "https://localhost:8080/"
        },
        "id": "H9HA6cxpOGTk",
        "outputId": "0b8e3479-50ee-4773-d8c4-de3d1e5097d4"
      },
      "execution_count": 547,
      "outputs": [
        {
          "output_type": "stream",
          "name": "stdout",
          "text": [
            "1864 4\n"
          ]
        }
      ]
    },
    {
      "cell_type": "markdown",
      "source": [
        "## Transform"
      ],
      "metadata": {
        "id": "e5WjUtf8vGzv"
      }
    },
    {
      "cell_type": "code",
      "source": [
        "# Only include relevant columns in dataframe\n",
        "demoracy_index_df = demoracy_index_df.select([\"country_code\", \"Democracy index (EIU)\"])"
      ],
      "metadata": {
        "id": "hRlrJf1dPaIG"
      },
      "execution_count": 548,
      "outputs": []
    },
    {
      "cell_type": "code",
      "source": [
        "# Rename Columns\n",
        "demoracy_index_df = demoracy_index_df.withColumnRenamed(\"Region/Country/Area\", \"country_code\")\n",
        "demoracy_index_df = demoracy_index_df.withColumnRenamed(\"Democracy index (EIU)\", \"democracy_index\")"
      ],
      "metadata": {
        "id": "eYiInOuDxv3K"
      },
      "execution_count": 549,
      "outputs": []
    },
    {
      "cell_type": "code",
      "source": [
        "# Drop Nulls\n",
        "demoracy_index_df = demoracy_index_df.dropna()"
      ],
      "metadata": {
        "id": "73xBLQppOcq7"
      },
      "execution_count": 550,
      "outputs": []
    },
    {
      "cell_type": "code",
      "source": [
        "# Row and column count post-cleaning\n",
        "print(demoracy_index_df.count(), len(demoracy_index_df.columns))"
      ],
      "metadata": {
        "colab": {
          "base_uri": "https://localhost:8080/"
        },
        "id": "8Re_xethOiAD",
        "outputId": "7c022d99-37c9-4d6f-f330-52876d42f617"
      },
      "execution_count": 551,
      "outputs": [
        {
          "output_type": "stream",
          "name": "stdout",
          "text": [
            "165 2\n"
          ]
        }
      ]
    },
    {
      "cell_type": "code",
      "source": [
        "demoracy_index_df.show()\n",
        "demoracy_index_df.dtypes"
      ],
      "metadata": {
        "colab": {
          "base_uri": "https://localhost:8080/"
        },
        "id": "Yt6sN3LcPqw-",
        "outputId": "d744b7b9-5645-4c9e-c27d-cb24971a9124"
      },
      "execution_count": 552,
      "outputs": [
        {
          "output_type": "stream",
          "name": "stdout",
          "text": [
            "+------------+---------------+\n",
            "|country_code|democracy_index|\n",
            "+------------+---------------+\n",
            "|           4|           28.5|\n",
            "|           8|           58.9|\n",
            "|          12|           40.1|\n",
            "|          24|           37.2|\n",
            "|          32|           70.2|\n",
            "|          51|           55.4|\n",
            "|          36|           90.9|\n",
            "|          40|           82.9|\n",
            "|          31|           27.5|\n",
            "|          48|           25.5|\n",
            "|          50|           58.8|\n",
            "|         112|           24.8|\n",
            "|          56|           76.4|\n",
            "|         204|           50.9|\n",
            "|          64|           53.0|\n",
            "|          68|           48.4|\n",
            "|          70|           48.6|\n",
            "|          72|           78.1|\n",
            "|          76|           68.6|\n",
            "|         100|           70.3|\n",
            "+------------+---------------+\n",
            "only showing top 20 rows\n",
            "\n"
          ]
        },
        {
          "output_type": "execute_result",
          "data": {
            "text/plain": [
              "[('country_code', 'int'), ('democracy_index', 'double')]"
            ]
          },
          "metadata": {},
          "execution_count": 552
        }
      ]
    },
    {
      "cell_type": "markdown",
      "source": [
        "## Load"
      ],
      "metadata": {
        "id": "X_srDPxLvJKH"
      }
    },
    {
      "cell_type": "markdown",
      "source": [
        "\n",
        "\n",
        "---\n",
        "\n"
      ],
      "metadata": {
        "id": "Eh64q9kET4Hw"
      }
    },
    {
      "cell_type": "markdown",
      "source": [
        "# 3 - happiness_score_df"
      ],
      "metadata": {
        "id": "tlmgpZuNQjyH"
      }
    },
    {
      "cell_type": "markdown",
      "source": [
        "## Extract"
      ],
      "metadata": {
        "id": "HVDwBi-RvObJ"
      }
    },
    {
      "cell_type": "code",
      "source": [
        "# Read in Happiness Score data from S3 Bucket\n",
        "url = 'https://corti-gw-group-project.s3.amazonaws.com/Unprocessed+Data/Happiness_Scores_2019.csv'\n",
        "spark.sparkContext.addFile(url)\n",
        "happiness_score_df = spark.read.csv(SparkFiles.get(\"Happiness_Scores_2019.csv\"), sep=\",\", header=True, inferSchema=True)"
      ],
      "metadata": {
        "id": "oueKgQf4AS-z"
      },
      "execution_count": 553,
      "outputs": []
    },
    {
      "cell_type": "code",
      "source": [
        "happiness_score_df.show()\n",
        "happiness_score_df.dtypes"
      ],
      "metadata": {
        "colab": {
          "base_uri": "https://localhost:8080/"
        },
        "id": "fwraKZOUAeSw",
        "outputId": "6c51fa03-ab48-4d6e-ed03-82a408616faf"
      },
      "execution_count": 554,
      "outputs": [
        {
          "output_type": "stream",
          "name": "stdout",
          "text": [
            "+------------+--------------------+----+-----------+\n",
            "|country_code|        country_name|  yr|Life Ladder|\n",
            "+------------+--------------------+----+-----------+\n",
            "|           4|         Afghanistan|2019|      2.375|\n",
            "|           8|             Albania|2019|      4.995|\n",
            "|          12|             Algeria|2019|      4.745|\n",
            "|          32|           Argentina|2019|      6.086|\n",
            "|          51|             Armenia|2019|      5.488|\n",
            "|          36|           Australia|2019|      7.234|\n",
            "|          40|             Austria|2019|      7.195|\n",
            "|          31|          Azerbaijan|2019|      5.173|\n",
            "|          48|             Bahrain|2019|      7.098|\n",
            "|          50|          Bangladesh|2019|      5.114|\n",
            "|         112|             Belarus|2019|      5.821|\n",
            "|          56|             Belgium|2019|      6.772|\n",
            "|         204|               Benin|2019|      4.976|\n",
            "|          68|Bolivia (Plurin. ...|2019|      5.674|\n",
            "|          70|Bosnia and Herzeg...|2019|      6.016|\n",
            "|          72|            Botswana|2019|      3.471|\n",
            "|          76|              Brazil|2019|      6.451|\n",
            "|         100|            Bulgaria|2019|      5.108|\n",
            "|         854|        Burkina Faso|2019|      4.741|\n",
            "|         116|            Cambodia|2019|      4.998|\n",
            "+------------+--------------------+----+-----------+\n",
            "only showing top 20 rows\n",
            "\n"
          ]
        },
        {
          "output_type": "execute_result",
          "data": {
            "text/plain": [
              "[('country_code', 'int'),\n",
              " ('country_name', 'string'),\n",
              " ('yr', 'int'),\n",
              " ('Life Ladder', 'double')]"
            ]
          },
          "metadata": {},
          "execution_count": 554
        }
      ]
    },
    {
      "cell_type": "code",
      "source": [
        "# Row and column count pre-cleaning\n",
        "print(happiness_score_df.count(), len(happiness_score_df.columns))"
      ],
      "metadata": {
        "colab": {
          "base_uri": "https://localhost:8080/"
        },
        "id": "KhfYUx_5QtoW",
        "outputId": "cdcae57f-a7af-47da-9cfe-ecb4fad7f66a"
      },
      "execution_count": 555,
      "outputs": [
        {
          "output_type": "stream",
          "name": "stdout",
          "text": [
            "140 4\n"
          ]
        }
      ]
    },
    {
      "cell_type": "markdown",
      "source": [
        "## Transform"
      ],
      "metadata": {
        "id": "6Z9DcxhTvQ2K"
      }
    },
    {
      "cell_type": "code",
      "source": [
        "# Only include relevant columns in dataframe\n",
        "happiness_score_df = happiness_score_df.select([\"country_code\", \"Life Ladder\"])"
      ],
      "metadata": {
        "id": "8ltyQ9HjQxG6"
      },
      "execution_count": 556,
      "outputs": []
    },
    {
      "cell_type": "code",
      "source": [
        "# Rename Columns\n",
        "happiness_score_df = happiness_score_df.withColumnRenamed(\"Life Ladder\", \"life_ladder\")"
      ],
      "metadata": {
        "id": "gEv0BH9ryrE-"
      },
      "execution_count": 557,
      "outputs": []
    },
    {
      "cell_type": "code",
      "source": [
        "# Drop Nulls\n",
        "happiness_score_df = happiness_score_df.dropna()"
      ],
      "metadata": {
        "id": "PDHPCwyhQxAy"
      },
      "execution_count": 558,
      "outputs": []
    },
    {
      "cell_type": "code",
      "source": [
        "# Row and column count post-cleaning\n",
        "print(happiness_score_df.count(), len(happiness_score_df.columns))"
      ],
      "metadata": {
        "colab": {
          "base_uri": "https://localhost:8080/"
        },
        "id": "y4S9JSjWQw8L",
        "outputId": "72026d98-eac4-42f3-adfc-5e097b76f46a"
      },
      "execution_count": 559,
      "outputs": [
        {
          "output_type": "stream",
          "name": "stdout",
          "text": [
            "140 2\n"
          ]
        }
      ]
    },
    {
      "cell_type": "code",
      "source": [
        "happiness_score_df.show()\n",
        "happiness_score_df.dtypes"
      ],
      "metadata": {
        "colab": {
          "base_uri": "https://localhost:8080/"
        },
        "id": "oETiMN3oQw00",
        "outputId": "15e8685e-ecaa-454e-8006-e15aa8072a10"
      },
      "execution_count": 560,
      "outputs": [
        {
          "output_type": "stream",
          "name": "stdout",
          "text": [
            "+------------+-----------+\n",
            "|country_code|life_ladder|\n",
            "+------------+-----------+\n",
            "|           4|      2.375|\n",
            "|           8|      4.995|\n",
            "|          12|      4.745|\n",
            "|          32|      6.086|\n",
            "|          51|      5.488|\n",
            "|          36|      7.234|\n",
            "|          40|      7.195|\n",
            "|          31|      5.173|\n",
            "|          48|      7.098|\n",
            "|          50|      5.114|\n",
            "|         112|      5.821|\n",
            "|          56|      6.772|\n",
            "|         204|      4.976|\n",
            "|          68|      5.674|\n",
            "|          70|      6.016|\n",
            "|          72|      3.471|\n",
            "|          76|      6.451|\n",
            "|         100|      5.108|\n",
            "|         854|      4.741|\n",
            "|         116|      4.998|\n",
            "+------------+-----------+\n",
            "only showing top 20 rows\n",
            "\n"
          ]
        },
        {
          "output_type": "execute_result",
          "data": {
            "text/plain": [
              "[('country_code', 'int'), ('life_ladder', 'double')]"
            ]
          },
          "metadata": {},
          "execution_count": 560
        }
      ]
    },
    {
      "cell_type": "markdown",
      "source": [
        "## Load"
      ],
      "metadata": {
        "id": "gAQcYGS2vT33"
      }
    },
    {
      "cell_type": "markdown",
      "source": [
        "\n",
        "\n",
        "---\n",
        "\n"
      ],
      "metadata": {
        "id": "-HRu4U6vT0x-"
      }
    },
    {
      "cell_type": "markdown",
      "source": [
        "# 4 - consumer_price_df"
      ],
      "metadata": {
        "id": "hP1_BKLOR7JP"
      }
    },
    {
      "cell_type": "markdown",
      "source": [
        "## Extract"
      ],
      "metadata": {
        "id": "hEl1QXTyvafX"
      }
    },
    {
      "cell_type": "code",
      "source": [
        "# Read in Consumer Price Index data from S3 Bucket\n",
        "url = \"https://corti-gw-group-project.s3.amazonaws.com/Unprocessed+Data/UN_Consumer_Price+Index_2019.csv\"\n",
        "spark.sparkContext.addFile(url)\n",
        "consumer_price_df = spark.read.csv(SparkFiles.get(\"UN_Consumer_Price+Index_2019.csv\"), sep=\",\", header=True, inferSchema=True)"
      ],
      "metadata": {
        "id": "45CrGDI3AiCB"
      },
      "execution_count": 561,
      "outputs": []
    },
    {
      "cell_type": "code",
      "source": [
        "consumer_price_df.show()\n",
        "consumer_price_df.dtypes"
      ],
      "metadata": {
        "colab": {
          "base_uri": "https://localhost:8080/"
        },
        "id": "GJD5e4lXH_YI",
        "outputId": "b0c9d3da-a1e5-47cc-cac7-37bd4300dff4"
      },
      "execution_count": 562,
      "outputs": [
        {
          "output_type": "stream",
          "name": "stdout",
          "text": [
            "+-------------------+-------------------+----+--------------------+-----+\n",
            "|Region/Country/Area|                _c1|Year|              Series|Value|\n",
            "+-------------------+-------------------+----+--------------------+-----+\n",
            "|                  4|        Afghanistan|2019|Consumer price in...|149.9|\n",
            "|                  8|            Albania|2019|Consumer price in...|119.1|\n",
            "|                 12|            Algeria|2019|Consumer price in...|151.4|\n",
            "|                 20|            Andorra|2019|Consumer price in...|105.8|\n",
            "|                 24|             Angola|2019|Consumer price in...|378.9|\n",
            "|                660|           Anguilla|2019|Consumer price in...|107.1|\n",
            "|                 28|Antigua and Barbuda|2019|Consumer price in...|115.4|\n",
            "|                 32|          Argentina|2019|Consumer price in...|232.8|\n",
            "|                 51|            Armenia|2019|Consumer price in...|129.2|\n",
            "|                533|              Aruba|2019|Consumer price in...|109.2|\n",
            "|                 36|          Australia|2019|Consumer price in...|119.8|\n",
            "|                 40|            Austria|2019|Consumer price in...|118.1|\n",
            "|                 31|         Azerbaijan|2019|Consumer price in...|156.9|\n",
            "|                 44|            Bahamas|2019|Consumer price in...|116.2|\n",
            "|                 48|            Bahrain|2019|Consumer price in...|118.8|\n",
            "|                 50|         Bangladesh|2019|Consumer price in...|179.7|\n",
            "|                 52|           Barbados|2019|Consumer price in...|191.7|\n",
            "|                112|            Belarus|2019|Consumer price in...|508.1|\n",
            "|                 56|            Belgium|2019|Consumer price in...|117.1|\n",
            "|                 84|             Belize|2019|Consumer price in...|106.2|\n",
            "+-------------------+-------------------+----+--------------------+-----+\n",
            "only showing top 20 rows\n",
            "\n"
          ]
        },
        {
          "output_type": "execute_result",
          "data": {
            "text/plain": [
              "[('Region/Country/Area', 'int'),\n",
              " ('_c1', 'string'),\n",
              " ('Year', 'int'),\n",
              " ('Series', 'string'),\n",
              " ('Value', 'double')]"
            ]
          },
          "metadata": {},
          "execution_count": 562
        }
      ]
    },
    {
      "cell_type": "code",
      "source": [
        "# Row and column count pre-cleaning\n",
        "print(consumer_price_df.count(), len(consumer_price_df.columns))"
      ],
      "metadata": {
        "colab": {
          "base_uri": "https://localhost:8080/"
        },
        "id": "yshsj9uoSNWh",
        "outputId": "14515bc0-ecd9-4e8e-d920-09de08b97230"
      },
      "execution_count": 563,
      "outputs": [
        {
          "output_type": "stream",
          "name": "stdout",
          "text": [
            "187 5\n"
          ]
        }
      ]
    },
    {
      "cell_type": "markdown",
      "source": [
        "## Transform"
      ],
      "metadata": {
        "id": "ErOs0anLvdUN"
      }
    },
    {
      "cell_type": "code",
      "source": [
        "# Only include relevant columns in dataframe\n",
        "consumer_price_df = consumer_price_df.select([\"Region/Country/Area\", \"Value\"])"
      ],
      "metadata": {
        "id": "zd3tJW61SNOj"
      },
      "execution_count": 564,
      "outputs": []
    },
    {
      "cell_type": "code",
      "source": [
        "# Rename Columns\n",
        "consumer_price_df = consumer_price_df.withColumnRenamed(\"Region/Country/Area\", \"country_code\")\n",
        "consumer_price_df = consumer_price_df.withColumnRenamed(\"Value\", \"consumer_price_index\")"
      ],
      "metadata": {
        "id": "s7DS4XTVSNHR"
      },
      "execution_count": 565,
      "outputs": []
    },
    {
      "cell_type": "code",
      "source": [
        "# Drop Nulls\n",
        "consumer_price_df = consumer_price_df.dropna()"
      ],
      "metadata": {
        "id": "yyC0Qb4WSNEn"
      },
      "execution_count": 566,
      "outputs": []
    },
    {
      "cell_type": "code",
      "source": [
        "# Row and column count post-cleaning\n",
        "print(consumer_price_df.count(), len(consumer_price_df.columns))"
      ],
      "metadata": {
        "colab": {
          "base_uri": "https://localhost:8080/"
        },
        "id": "3xziaOrFSNB4",
        "outputId": "de4d6c8a-1f7e-4030-8aa3-6e6e78c4d624"
      },
      "execution_count": 567,
      "outputs": [
        {
          "output_type": "stream",
          "name": "stdout",
          "text": [
            "187 2\n"
          ]
        }
      ]
    },
    {
      "cell_type": "code",
      "source": [
        "consumer_price_df.show()\n",
        "consumer_price_df.dtypes"
      ],
      "metadata": {
        "colab": {
          "base_uri": "https://localhost:8080/"
        },
        "id": "Bapt-sHbSM_V",
        "outputId": "7a7d2c71-73f8-4bc5-ab92-5b29059a14f6"
      },
      "execution_count": 568,
      "outputs": [
        {
          "output_type": "stream",
          "name": "stdout",
          "text": [
            "+------------+--------------------+\n",
            "|country_code|consumer_price_index|\n",
            "+------------+--------------------+\n",
            "|           4|               149.9|\n",
            "|           8|               119.1|\n",
            "|          12|               151.4|\n",
            "|          20|               105.8|\n",
            "|          24|               378.9|\n",
            "|         660|               107.1|\n",
            "|          28|               115.4|\n",
            "|          32|               232.8|\n",
            "|          51|               129.2|\n",
            "|         533|               109.2|\n",
            "|          36|               119.8|\n",
            "|          40|               118.1|\n",
            "|          31|               156.9|\n",
            "|          44|               116.2|\n",
            "|          48|               118.8|\n",
            "|          50|               179.7|\n",
            "|          52|               191.7|\n",
            "|         112|               508.1|\n",
            "|          56|               117.1|\n",
            "|          84|               106.2|\n",
            "+------------+--------------------+\n",
            "only showing top 20 rows\n",
            "\n"
          ]
        },
        {
          "output_type": "execute_result",
          "data": {
            "text/plain": [
              "[('country_code', 'int'), ('consumer_price_index', 'double')]"
            ]
          },
          "metadata": {},
          "execution_count": 568
        }
      ]
    },
    {
      "cell_type": "markdown",
      "source": [
        "## Load"
      ],
      "metadata": {
        "id": "-gw9EwJkvfb3"
      }
    },
    {
      "cell_type": "markdown",
      "source": [
        "\n",
        "\n",
        "---\n",
        "\n"
      ],
      "metadata": {
        "id": "ctVyrvpYUTBG"
      }
    },
    {
      "cell_type": "markdown",
      "source": [
        "# 5 - gdp_per_capita_df"
      ],
      "metadata": {
        "id": "eYIMDbVUTb6Q"
      }
    },
    {
      "cell_type": "markdown",
      "source": [
        "## Extract"
      ],
      "metadata": {
        "id": "FoxpJAOLvjXD"
      }
    },
    {
      "cell_type": "code",
      "source": [
        "# Read in GDP Per Capita data from S3 Bucket\n",
        "url = \"https://corti-gw-group-project.s3.amazonaws.com/Unprocessed+Data/UN_GDP_Per_Capita_2019.csv\"\n",
        "spark.sparkContext.addFile(url)\n",
        "gdp_per_capita_df = spark.read.csv(SparkFiles.get(\"UN_GDP_Per_Capita_2019.csv\"), sep=\",\", header=True, inferSchema=True)"
      ],
      "metadata": {
        "id": "LAxFGgh_IFNd"
      },
      "execution_count": 569,
      "outputs": []
    },
    {
      "cell_type": "code",
      "source": [
        "gdp_per_capita_df.show()\n",
        "gdp_per_capita_df.dtypes"
      ],
      "metadata": {
        "colab": {
          "base_uri": "https://localhost:8080/"
        },
        "id": "OleIpmtbIR6p",
        "outputId": "c0dd28fa-122d-4c5c-86bb-8ed505ad6c6b"
      },
      "execution_count": 570,
      "outputs": [
        {
          "output_type": "stream",
          "name": "stdout",
          "text": [
            "+-------------------+-------------------+----+--------------------+----------+\n",
            "|Region/Country/Area|                _c1|Year|              Series|     Value|\n",
            "+-------------------+-------------------+----+--------------------+----------+\n",
            "|                  4|        Afghanistan|2019|GDP per capita (U...|   $470.00|\n",
            "|                  8|            Albania|2019|GDP per capita (U...| $5,303.00|\n",
            "|                 12|            Algeria|2019|GDP per capita (U...| $3,976.00|\n",
            "|                 20|            Andorra|2019|GDP per capita (U...|$40,887.00|\n",
            "|                 24|             Angola|2019|GDP per capita (U...| $2,671.00|\n",
            "|                660|           Anguilla|2019|GDP per capita (U...|$25,529.00|\n",
            "|                 28|Antigua and Barbuda|2019|GDP per capita (U...|$17,113.00|\n",
            "|                 32|          Argentina|2019|GDP per capita (U...|$10,041.00|\n",
            "|                 51|            Armenia|2019|GDP per capita (U...| $4,623.00|\n",
            "|                533|              Aruba|2019|GDP per capita (U...|$30,975.00|\n",
            "|                 36|          Australia|2019|GDP per capita (U...|$54,763.00|\n",
            "|                 40|            Austria|2019|GDP per capita (U...|$49,701.00|\n",
            "|                 31|         Azerbaijan|2019|GDP per capita (U...| $4,782.00|\n",
            "|                 44|            Bahamas|2019|GDP per capita (U...|$34,864.00|\n",
            "|                 48|            Bahrain|2019|GDP per capita (U...|$23,504.00|\n",
            "|                 50|         Bangladesh|2019|GDP per capita (U...| $1,846.00|\n",
            "|                 52|           Barbados|2019|GDP per capita (U...|$18,149.00|\n",
            "|                112|            Belarus|2019|GDP per capita (U...| $6,674.00|\n",
            "|                 56|            Belgium|2019|GDP per capita (U...|$46,198.00|\n",
            "|                 84|             Belize|2019|GDP per capita (U...| $4,815.00|\n",
            "+-------------------+-------------------+----+--------------------+----------+\n",
            "only showing top 20 rows\n",
            "\n"
          ]
        },
        {
          "output_type": "execute_result",
          "data": {
            "text/plain": [
              "[('Region/Country/Area', 'int'),\n",
              " ('_c1', 'string'),\n",
              " ('Year', 'int'),\n",
              " ('Series', 'string'),\n",
              " ('Value', 'string')]"
            ]
          },
          "metadata": {},
          "execution_count": 570
        }
      ]
    },
    {
      "cell_type": "code",
      "source": [
        "# Row and column count pre-cleaning\n",
        "print(gdp_per_capita_df.count(), len(gdp_per_capita_df.columns))"
      ],
      "metadata": {
        "colab": {
          "base_uri": "https://localhost:8080/"
        },
        "id": "3nv7KmlyVONy",
        "outputId": "d5691e0d-97c3-4672-fbd8-b6b2a9a7df39"
      },
      "execution_count": 571,
      "outputs": [
        {
          "output_type": "stream",
          "name": "stdout",
          "text": [
            "210 5\n"
          ]
        }
      ]
    },
    {
      "cell_type": "markdown",
      "source": [
        "## Transform"
      ],
      "metadata": {
        "id": "aSmSOTewvlZS"
      }
    },
    {
      "cell_type": "code",
      "source": [
        "# Only include relevant columns in dataframe\n",
        "gdp_per_capita_df = gdp_per_capita_df.select([\"Region/Country/Area\", \"Value\"])"
      ],
      "metadata": {
        "id": "fpuHbeYTVOHj"
      },
      "execution_count": 572,
      "outputs": []
    },
    {
      "cell_type": "code",
      "source": [
        "# Rename Columns\n",
        "gdp_per_capita_df = gdp_per_capita_df.withColumnRenamed(\"Region/Country/Area\", \"country_code\")"
      ],
      "metadata": {
        "id": "566XuP0yVOE-"
      },
      "execution_count": 573,
      "outputs": []
    },
    {
      "cell_type": "code",
      "source": [
        "# Drop Nulls\n",
        "gdp_per_capita_df = gdp_per_capita_df.dropna()"
      ],
      "metadata": {
        "id": "Dv3l3soIVOCg"
      },
      "execution_count": 574,
      "outputs": []
    },
    {
      "cell_type": "code",
      "source": [
        "gdp_per_capita_df.show()\n",
        "gdp_per_capita_df.dtypes"
      ],
      "metadata": {
        "colab": {
          "base_uri": "https://localhost:8080/"
        },
        "id": "ck9UiITXVN4w",
        "outputId": "dbea65ff-aca2-4d0e-b5ab-210642b12b07"
      },
      "execution_count": 575,
      "outputs": [
        {
          "output_type": "stream",
          "name": "stdout",
          "text": [
            "+------------+----------+\n",
            "|country_code|     Value|\n",
            "+------------+----------+\n",
            "|           4|   $470.00|\n",
            "|           8| $5,303.00|\n",
            "|          12| $3,976.00|\n",
            "|          20|$40,887.00|\n",
            "|          24| $2,671.00|\n",
            "|         660|$25,529.00|\n",
            "|          28|$17,113.00|\n",
            "|          32|$10,041.00|\n",
            "|          51| $4,623.00|\n",
            "|         533|$30,975.00|\n",
            "|          36|$54,763.00|\n",
            "|          40|$49,701.00|\n",
            "|          31| $4,782.00|\n",
            "|          44|$34,864.00|\n",
            "|          48|$23,504.00|\n",
            "|          50| $1,846.00|\n",
            "|          52|$18,149.00|\n",
            "|         112| $6,674.00|\n",
            "|          56|$46,198.00|\n",
            "|          84| $4,815.00|\n",
            "+------------+----------+\n",
            "only showing top 20 rows\n",
            "\n"
          ]
        },
        {
          "output_type": "execute_result",
          "data": {
            "text/plain": [
              "[('country_code', 'int'), ('Value', 'string')]"
            ]
          },
          "metadata": {},
          "execution_count": 575
        }
      ]
    },
    {
      "cell_type": "code",
      "source": [
        "# Convert dollars (string) to double (get rid of \"$\")\n",
        "import pyspark.sql.functions as f\n",
        "gdp_per_capita_df = gdp_per_capita_df.withColumn('per_capita_gdp_dollars', f.regexp_replace('Value', '[$,]', '').cast('double'))\n",
        "gdp_per_capita_df.show()"
      ],
      "metadata": {
        "colab": {
          "base_uri": "https://localhost:8080/"
        },
        "id": "SMZf8VlZmZTA",
        "outputId": "41cbc204-d74c-4ea6-8558-9aef1d55960f"
      },
      "execution_count": 576,
      "outputs": [
        {
          "output_type": "stream",
          "name": "stdout",
          "text": [
            "+------------+----------+----------------------+\n",
            "|country_code|     Value|per_capita_gdp_dollars|\n",
            "+------------+----------+----------------------+\n",
            "|           4|   $470.00|                 470.0|\n",
            "|           8| $5,303.00|                5303.0|\n",
            "|          12| $3,976.00|                3976.0|\n",
            "|          20|$40,887.00|               40887.0|\n",
            "|          24| $2,671.00|                2671.0|\n",
            "|         660|$25,529.00|               25529.0|\n",
            "|          28|$17,113.00|               17113.0|\n",
            "|          32|$10,041.00|               10041.0|\n",
            "|          51| $4,623.00|                4623.0|\n",
            "|         533|$30,975.00|               30975.0|\n",
            "|          36|$54,763.00|               54763.0|\n",
            "|          40|$49,701.00|               49701.0|\n",
            "|          31| $4,782.00|                4782.0|\n",
            "|          44|$34,864.00|               34864.0|\n",
            "|          48|$23,504.00|               23504.0|\n",
            "|          50| $1,846.00|                1846.0|\n",
            "|          52|$18,149.00|               18149.0|\n",
            "|         112| $6,674.00|                6674.0|\n",
            "|          56|$46,198.00|               46198.0|\n",
            "|          84| $4,815.00|                4815.0|\n",
            "+------------+----------+----------------------+\n",
            "only showing top 20 rows\n",
            "\n"
          ]
        }
      ]
    },
    {
      "cell_type": "code",
      "source": [
        "# Only include relevant columns in dataframe\n",
        "gdp_per_capita_df = gdp_per_capita_df.select([\"country_code\", \"per_capita_gdp_dollars\"])"
      ],
      "metadata": {
        "id": "ujirp9XXnQYP"
      },
      "execution_count": 577,
      "outputs": []
    },
    {
      "cell_type": "code",
      "source": [
        "gdp_per_capita_df.show()\n",
        "gdp_per_capita_df.dtypes"
      ],
      "metadata": {
        "colab": {
          "base_uri": "https://localhost:8080/"
        },
        "id": "NFC_c0DcnwTw",
        "outputId": "1844aaf8-45fd-46d6-b1b8-f208632f3454"
      },
      "execution_count": 578,
      "outputs": [
        {
          "output_type": "stream",
          "name": "stdout",
          "text": [
            "+------------+----------------------+\n",
            "|country_code|per_capita_gdp_dollars|\n",
            "+------------+----------------------+\n",
            "|           4|                 470.0|\n",
            "|           8|                5303.0|\n",
            "|          12|                3976.0|\n",
            "|          20|               40887.0|\n",
            "|          24|                2671.0|\n",
            "|         660|               25529.0|\n",
            "|          28|               17113.0|\n",
            "|          32|               10041.0|\n",
            "|          51|                4623.0|\n",
            "|         533|               30975.0|\n",
            "|          36|               54763.0|\n",
            "|          40|               49701.0|\n",
            "|          31|                4782.0|\n",
            "|          44|               34864.0|\n",
            "|          48|               23504.0|\n",
            "|          50|                1846.0|\n",
            "|          52|               18149.0|\n",
            "|         112|                6674.0|\n",
            "|          56|               46198.0|\n",
            "|          84|                4815.0|\n",
            "+------------+----------------------+\n",
            "only showing top 20 rows\n",
            "\n"
          ]
        },
        {
          "output_type": "execute_result",
          "data": {
            "text/plain": [
              "[('country_code', 'int'), ('per_capita_gdp_dollars', 'double')]"
            ]
          },
          "metadata": {},
          "execution_count": 578
        }
      ]
    },
    {
      "cell_type": "markdown",
      "source": [
        "## Load"
      ],
      "metadata": {
        "id": "VSdjrEM9voPI"
      }
    },
    {
      "cell_type": "markdown",
      "source": [
        "\n",
        "\n",
        "---\n",
        "\n"
      ],
      "metadata": {
        "id": "b5hs60n9UeFF"
      }
    },
    {
      "cell_type": "markdown",
      "source": [
        "# 6 - gender_ratio_df"
      ],
      "metadata": {
        "id": "KilbFbY7Ud4X"
      }
    },
    {
      "cell_type": "markdown",
      "source": [
        "## Extract"
      ],
      "metadata": {
        "id": "24YnOFy3vtls"
      }
    },
    {
      "cell_type": "code",
      "source": [
        "# Read in Gender Ratio data from S3 Bucket\n",
        "url = \"https://corti-gw-group-project.s3.amazonaws.com/Unprocessed+Data/UN_Gender_Ratio_2019.csv\"\n",
        "spark.sparkContext.addFile(url)\n",
        "gender_ratio_df = spark.read.csv(SparkFiles.get(\"UN_Gender_Ratio_2019.csv\"), sep=\",\", header=True, inferSchema=True)"
      ],
      "metadata": {
        "id": "KgYcO7rAIfPS"
      },
      "execution_count": 579,
      "outputs": []
    },
    {
      "cell_type": "code",
      "source": [
        "gender_ratio_df.show()\n",
        "gender_ratio_df.dtypes"
      ],
      "metadata": {
        "colab": {
          "base_uri": "https://localhost:8080/"
        },
        "id": "uNhyPzqKIuoq",
        "outputId": "a33755ea-8334-408b-d3e0-db4ad7e17deb"
      },
      "execution_count": 580,
      "outputs": [
        {
          "output_type": "stream",
          "name": "stdout",
          "text": [
            "+-------------------+-------------------+----+--------------------+-----+\n",
            "|Region/Country/Area|                _c1|Year|              Series|Value|\n",
            "+-------------------+-------------------+----+--------------------+-----+\n",
            "|                  4|        Afghanistan|2019|Sex ratio (males ...|105.5|\n",
            "|                  8|            Albania|2019|Sex ratio (males ...|103.7|\n",
            "|                 12|            Algeria|2019|Sex ratio (males ...|102.1|\n",
            "|                 24|             Angola|2019|Sex ratio (males ...| 97.9|\n",
            "|                 28|Antigua and Barbuda|2019|Sex ratio (males ...| 93.2|\n",
            "|                 32|          Argentina|2019|Sex ratio (males ...| 95.2|\n",
            "|                 51|            Armenia|2019|Sex ratio (males ...| 88.8|\n",
            "|                533|              Aruba|2019|Sex ratio (males ...| 90.3|\n",
            "|                 36|          Australia|2019|Sex ratio (males ...| 99.2|\n",
            "|                 40|            Austria|2019|Sex ratio (males ...| 97.0|\n",
            "|                 31|         Azerbaijan|2019|Sex ratio (males ...| 99.7|\n",
            "|                 44|            Bahamas|2019|Sex ratio (males ...| 94.5|\n",
            "|                 48|            Bahrain|2019|Sex ratio (males ...|179.9|\n",
            "|                 50|         Bangladesh|2019|Sex ratio (males ...|102.4|\n",
            "|                 52|           Barbados|2019|Sex ratio (males ...| 93.7|\n",
            "|                112|            Belarus|2019|Sex ratio (males ...| 87.1|\n",
            "|                 56|            Belgium|2019|Sex ratio (males ...| 98.0|\n",
            "|                 84|             Belize|2019|Sex ratio (males ...| 99.1|\n",
            "|                204|              Benin|2019|Sex ratio (males ...| 99.7|\n",
            "|                 64|             Bhutan|2019|Sex ratio (males ...|113.1|\n",
            "+-------------------+-------------------+----+--------------------+-----+\n",
            "only showing top 20 rows\n",
            "\n"
          ]
        },
        {
          "output_type": "execute_result",
          "data": {
            "text/plain": [
              "[('Region/Country/Area', 'int'),\n",
              " ('_c1', 'string'),\n",
              " ('Year', 'int'),\n",
              " ('Series', 'string'),\n",
              " ('Value', 'double')]"
            ]
          },
          "metadata": {},
          "execution_count": 580
        }
      ]
    },
    {
      "cell_type": "code",
      "source": [
        "# Row and column count pre-cleaning\n",
        "print(gender_ratio_df.count(), len(gender_ratio_df.columns))"
      ],
      "metadata": {
        "colab": {
          "base_uri": "https://localhost:8080/"
        },
        "id": "58V7BNN9oUSa",
        "outputId": "208620e8-d190-4934-d3f2-8accfbe3426d"
      },
      "execution_count": 581,
      "outputs": [
        {
          "output_type": "stream",
          "name": "stdout",
          "text": [
            "196 5\n"
          ]
        }
      ]
    },
    {
      "cell_type": "markdown",
      "source": [
        "## Transform"
      ],
      "metadata": {
        "id": "taGI_wjfvvg0"
      }
    },
    {
      "cell_type": "code",
      "source": [
        "# Only include relevant columns in dataframe\n",
        "gender_ratio_df = gender_ratio_df.select([\"Region/Country/Area\", \"Value\"])"
      ],
      "metadata": {
        "id": "wQ1NFymJoUQf"
      },
      "execution_count": 582,
      "outputs": []
    },
    {
      "cell_type": "code",
      "source": [
        "# Rename Columns\n",
        "gender_ratio_df = gender_ratio_df.withColumnRenamed(\"Region/Country/Area\", \"country_code\")\n",
        "gender_ratio_df = gender_ratio_df.withColumnRenamed(\"Value\", \"gender_ratio_males_per100_female\")"
      ],
      "metadata": {
        "id": "MfWU0lSDoUNv"
      },
      "execution_count": 583,
      "outputs": []
    },
    {
      "cell_type": "code",
      "source": [
        "# Drop Nulls\n",
        "gender_ratio_df = gender_ratio_df.dropna()"
      ],
      "metadata": {
        "id": "JFSY6YJ9oULV"
      },
      "execution_count": 584,
      "outputs": []
    },
    {
      "cell_type": "code",
      "source": [
        "# Row and column count post-cleaning\n",
        "print(gender_ratio_df.count(), len(gender_ratio_df.columns))"
      ],
      "metadata": {
        "colab": {
          "base_uri": "https://localhost:8080/"
        },
        "id": "Ucz8KatioUIx",
        "outputId": "198f408f-3e22-4e52-e8ec-1239a6522be0"
      },
      "execution_count": 585,
      "outputs": [
        {
          "output_type": "stream",
          "name": "stdout",
          "text": [
            "196 2\n"
          ]
        }
      ]
    },
    {
      "cell_type": "code",
      "source": [
        "gender_ratio_df.show()\n",
        "gender_ratio_df.dtypes"
      ],
      "metadata": {
        "colab": {
          "base_uri": "https://localhost:8080/"
        },
        "id": "u-QYiQEtoUFu",
        "outputId": "fffc0b66-347d-4e5e-e0ec-347c37c9543f"
      },
      "execution_count": 586,
      "outputs": [
        {
          "output_type": "stream",
          "name": "stdout",
          "text": [
            "+------------+--------------------------------+\n",
            "|country_code|gender_ratio_males_per100_female|\n",
            "+------------+--------------------------------+\n",
            "|           4|                           105.5|\n",
            "|           8|                           103.7|\n",
            "|          12|                           102.1|\n",
            "|          24|                            97.9|\n",
            "|          28|                            93.2|\n",
            "|          32|                            95.2|\n",
            "|          51|                            88.8|\n",
            "|         533|                            90.3|\n",
            "|          36|                            99.2|\n",
            "|          40|                            97.0|\n",
            "|          31|                            99.7|\n",
            "|          44|                            94.5|\n",
            "|          48|                           179.9|\n",
            "|          50|                           102.4|\n",
            "|          52|                            93.7|\n",
            "|         112|                            87.1|\n",
            "|          56|                            98.0|\n",
            "|          84|                            99.1|\n",
            "|         204|                            99.7|\n",
            "|          64|                           113.1|\n",
            "+------------+--------------------------------+\n",
            "only showing top 20 rows\n",
            "\n"
          ]
        },
        {
          "output_type": "execute_result",
          "data": {
            "text/plain": [
              "[('country_code', 'int'), ('gender_ratio_males_per100_female', 'double')]"
            ]
          },
          "metadata": {},
          "execution_count": 586
        }
      ]
    },
    {
      "cell_type": "markdown",
      "source": [
        "## Load"
      ],
      "metadata": {
        "id": "ycQW9cWnvxl8"
      }
    },
    {
      "cell_type": "markdown",
      "source": [
        "\n",
        "\n",
        "---\n",
        "\n"
      ],
      "metadata": {
        "id": "-pmopsMtUksg"
      }
    },
    {
      "cell_type": "markdown",
      "source": [
        "# 7 - infant_mortality_df"
      ],
      "metadata": {
        "id": "nu6dyxfiUlyW"
      }
    },
    {
      "cell_type": "markdown",
      "source": [
        "## Extract"
      ],
      "metadata": {
        "id": "PNr0IDmsv1ZF"
      }
    },
    {
      "cell_type": "code",
      "source": [
        "# Read in Infant Mortality data from S3 Bucket\n",
        "url = \"https://corti-gw-group-project.s3.amazonaws.com/Unprocessed+Data/UN_Infant_Mortality_2020.csv\"\n",
        "spark.sparkContext.addFile(url)\n",
        "infant_mortality_df = spark.read.csv(SparkFiles.get(\"UN_Infant_Mortality_2020.csv\"), sep=\",\", header=True, inferSchema=True)"
      ],
      "metadata": {
        "id": "jlg6HiUBIyMt"
      },
      "execution_count": 587,
      "outputs": []
    },
    {
      "cell_type": "code",
      "source": [
        "infant_mortality_df.show()\n",
        "infant_mortality_df.dtypes"
      ],
      "metadata": {
        "colab": {
          "base_uri": "https://localhost:8080/"
        },
        "id": "1Qvn141VJANp",
        "outputId": "c0146c8e-a2c4-4c4a-9162-4eebf56f8243"
      },
      "execution_count": 588,
      "outputs": [
        {
          "output_type": "stream",
          "name": "stdout",
          "text": [
            "+-------------------+-------------------+----+--------------------+-----+\n",
            "|Region/Country/Area|                _c1|Year|              Series|Value|\n",
            "+-------------------+-------------------+----+--------------------+-----+\n",
            "|                  4|        Afghanistan|2020|Infant mortality ...| 51.7|\n",
            "|                  8|            Albania|2020|Infant mortality ...|  8.0|\n",
            "|                 12|            Algeria|2020|Infant mortality ...| 21.2|\n",
            "|                 24|             Angola|2020|Infant mortality ...| 61.5|\n",
            "|                 28|Antigua and Barbuda|2020|Infant mortality ...|  5.2|\n",
            "|                 32|          Argentina|2020|Infant mortality ...| 10.2|\n",
            "|                 51|            Armenia|2020|Infant mortality ...| 10.8|\n",
            "|                533|              Aruba|2020|Infant mortality ...| 13.6|\n",
            "|                 36|          Australia|2020|Infant mortality ...|  3.1|\n",
            "|                 40|            Austria|2020|Infant mortality ...|  3.2|\n",
            "|                 31|         Azerbaijan|2020|Infant mortality ...| 20.8|\n",
            "|                 44|            Bahamas|2020|Infant mortality ...|  5.9|\n",
            "|                 48|            Bahrain|2020|Infant mortality ...|  6.0|\n",
            "|                 50|         Bangladesh|2020|Infant mortality ...| 26.8|\n",
            "|                 52|           Barbados|2020|Infant mortality ...| 10.0|\n",
            "|                112|            Belarus|2020|Infant mortality ...|  3.0|\n",
            "|                 56|            Belgium|2020|Infant mortality ...|  2.8|\n",
            "|                 84|             Belize|2020|Infant mortality ...| 12.8|\n",
            "|                204|              Benin|2020|Infant mortality ...| 61.1|\n",
            "|                 64|             Bhutan|2020|Infant mortality ...| 24.1|\n",
            "+-------------------+-------------------+----+--------------------+-----+\n",
            "only showing top 20 rows\n",
            "\n"
          ]
        },
        {
          "output_type": "execute_result",
          "data": {
            "text/plain": [
              "[('Region/Country/Area', 'int'),\n",
              " ('_c1', 'string'),\n",
              " ('Year', 'int'),\n",
              " ('Series', 'string'),\n",
              " ('Value', 'double')]"
            ]
          },
          "metadata": {},
          "execution_count": 588
        }
      ]
    },
    {
      "cell_type": "code",
      "source": [
        "# Row and column count pre-cleaning\n",
        "print(infant_mortality_df.count(), len(infant_mortality_df.columns))"
      ],
      "metadata": {
        "colab": {
          "base_uri": "https://localhost:8080/"
        },
        "id": "LDg0-LaapDv2",
        "outputId": "acd8ab4f-078f-4f1b-98e7-3bf851be6707"
      },
      "execution_count": 589,
      "outputs": [
        {
          "output_type": "stream",
          "name": "stdout",
          "text": [
            "201 5\n"
          ]
        }
      ]
    },
    {
      "cell_type": "markdown",
      "source": [
        "## Transform"
      ],
      "metadata": {
        "id": "nEiY4bLHv3Yz"
      }
    },
    {
      "cell_type": "code",
      "source": [
        "# Only include relevant columns in dataframe\n",
        "infant_mortality_df = infant_mortality_df.select([\"Region/Country/Area\", \"Value\"])"
      ],
      "metadata": {
        "id": "omiNtqgMpDsx"
      },
      "execution_count": 590,
      "outputs": []
    },
    {
      "cell_type": "code",
      "source": [
        "# Rename Columns\n",
        "infant_mortality_df = infant_mortality_df.withColumnRenamed(\"Region/Country/Area\", \"country_code\")\n",
        "infant_mortality_df = infant_mortality_df.withColumnRenamed(\"Value\", \"infant_mortality_per1000_births\")"
      ],
      "metadata": {
        "id": "0RU2ooPRpDp8"
      },
      "execution_count": 591,
      "outputs": []
    },
    {
      "cell_type": "code",
      "source": [
        "# Drop Nulls\n",
        "infant_mortality_df = infant_mortality_df.dropna()"
      ],
      "metadata": {
        "id": "NUzctNlZpDkq"
      },
      "execution_count": 592,
      "outputs": []
    },
    {
      "cell_type": "code",
      "source": [
        "# Row and column count post-cleaning\n",
        "print(infant_mortality_df.count(), len(infant_mortality_df.columns))"
      ],
      "metadata": {
        "colab": {
          "base_uri": "https://localhost:8080/"
        },
        "id": "1P0123tPpDhh",
        "outputId": "4cd27916-7dd3-4b46-c38f-978dec737be4"
      },
      "execution_count": 593,
      "outputs": [
        {
          "output_type": "stream",
          "name": "stdout",
          "text": [
            "201 2\n"
          ]
        }
      ]
    },
    {
      "cell_type": "code",
      "source": [
        "infant_mortality_df.show()\n",
        "infant_mortality_df.dtypes"
      ],
      "metadata": {
        "colab": {
          "base_uri": "https://localhost:8080/"
        },
        "id": "ZgWITevFpDe6",
        "outputId": "e574ba9c-fdd3-4e76-af0b-0c2d3f7a2973"
      },
      "execution_count": 594,
      "outputs": [
        {
          "output_type": "stream",
          "name": "stdout",
          "text": [
            "+------------+-------------------------------+\n",
            "|country_code|infant_mortality_per1000_births|\n",
            "+------------+-------------------------------+\n",
            "|           4|                           51.7|\n",
            "|           8|                            8.0|\n",
            "|          12|                           21.2|\n",
            "|          24|                           61.5|\n",
            "|          28|                            5.2|\n",
            "|          32|                           10.2|\n",
            "|          51|                           10.8|\n",
            "|         533|                           13.6|\n",
            "|          36|                            3.1|\n",
            "|          40|                            3.2|\n",
            "|          31|                           20.8|\n",
            "|          44|                            5.9|\n",
            "|          48|                            6.0|\n",
            "|          50|                           26.8|\n",
            "|          52|                           10.0|\n",
            "|         112|                            3.0|\n",
            "|          56|                            2.8|\n",
            "|          84|                           12.8|\n",
            "|         204|                           61.1|\n",
            "|          64|                           24.1|\n",
            "+------------+-------------------------------+\n",
            "only showing top 20 rows\n",
            "\n"
          ]
        },
        {
          "output_type": "execute_result",
          "data": {
            "text/plain": [
              "[('country_code', 'int'), ('infant_mortality_per1000_births', 'double')]"
            ]
          },
          "metadata": {},
          "execution_count": 594
        }
      ]
    },
    {
      "cell_type": "markdown",
      "source": [
        "## Load"
      ],
      "metadata": {
        "id": "x8nrHJYXv5sj"
      }
    },
    {
      "cell_type": "markdown",
      "source": [
        "\n",
        "\n",
        "---\n",
        "\n"
      ],
      "metadata": {
        "id": "VogTjEWaUqZf"
      }
    },
    {
      "cell_type": "markdown",
      "source": [
        "# 8 - life_expectancy_df"
      ],
      "metadata": {
        "id": "eYinkCQ6UqRX"
      }
    },
    {
      "cell_type": "markdown",
      "source": [
        "## Extract"
      ],
      "metadata": {
        "id": "ht0ZoYV1v9pM"
      }
    },
    {
      "cell_type": "code",
      "source": [
        "# Read in Life Expectancy data from S3 Bucket\n",
        "url = \"https://corti-gw-group-project.s3.amazonaws.com/Unprocessed+Data/UN_Life_Expectancy_2020.csv\"\n",
        "spark.sparkContext.addFile(url)\n",
        "life_expectancy_df = spark.read.csv(SparkFiles.get(\"UN_Life_Expectancy_2020.csv\"), sep=\",\", header=True, inferSchema=True)"
      ],
      "metadata": {
        "id": "oCwoRcgEJCt5"
      },
      "execution_count": 595,
      "outputs": []
    },
    {
      "cell_type": "code",
      "source": [
        "life_expectancy_df.show()\n",
        "life_expectancy_df.dtypes"
      ],
      "metadata": {
        "colab": {
          "base_uri": "https://localhost:8080/"
        },
        "id": "z90V4wf1JOSg",
        "outputId": "c4d5c36b-3356-4ce0-f37a-aea6435178ff"
      },
      "execution_count": 596,
      "outputs": [
        {
          "output_type": "stream",
          "name": "stdout",
          "text": [
            "+-------------------+-------------------+----+--------------------+-----+\n",
            "|Region/Country/Area|                _c1|Year|              Series|Value|\n",
            "+-------------------+-------------------+----+--------------------+-----+\n",
            "|                  4|        Afghanistan|2020|Life expectancy a...| 64.3|\n",
            "|                  8|            Albania|2020|Life expectancy a...| 78.4|\n",
            "|                 12|            Algeria|2020|Life expectancy a...| 76.6|\n",
            "|                 24|             Angola|2020|Life expectancy a...| 60.5|\n",
            "|                 28|Antigua and Barbuda|2020|Life expectancy a...| 76.8|\n",
            "|                 32|          Argentina|2020|Life expectancy a...| 76.4|\n",
            "|                 51|            Armenia|2020|Life expectancy a...| 74.9|\n",
            "|                533|              Aruba|2020|Life expectancy a...| 76.1|\n",
            "|                 36|          Australia|2020|Life expectancy a...| 83.2|\n",
            "|                 40|            Austria|2020|Life expectancy a...| 81.4|\n",
            "|                 31|         Azerbaijan|2020|Life expectancy a...| 72.8|\n",
            "|                 44|            Bahamas|2020|Life expectancy a...| 73.7|\n",
            "|                 48|            Bahrain|2020|Life expectancy a...| 77.1|\n",
            "|                 50|         Bangladesh|2020|Life expectancy a...| 72.2|\n",
            "|                 52|           Barbados|2020|Life expectancy a...| 79.0|\n",
            "|                112|            Belarus|2020|Life expectancy a...| 74.5|\n",
            "|                 56|            Belgium|2020|Life expectancy a...| 81.4|\n",
            "|                 84|             Belize|2020|Life expectancy a...| 74.4|\n",
            "|                204|              Benin|2020|Life expectancy a...| 61.3|\n",
            "|                 64|             Bhutan|2020|Life expectancy a...| 71.3|\n",
            "+-------------------+-------------------+----+--------------------+-----+\n",
            "only showing top 20 rows\n",
            "\n"
          ]
        },
        {
          "output_type": "execute_result",
          "data": {
            "text/plain": [
              "[('Region/Country/Area', 'int'),\n",
              " ('_c1', 'string'),\n",
              " ('Year', 'int'),\n",
              " ('Series', 'string'),\n",
              " ('Value', 'double')]"
            ]
          },
          "metadata": {},
          "execution_count": 596
        }
      ]
    },
    {
      "cell_type": "code",
      "source": [
        "# Row and column count pre-cleaning\n",
        "print(life_expectancy_df.count(), len(life_expectancy_df.columns))"
      ],
      "metadata": {
        "colab": {
          "base_uri": "https://localhost:8080/"
        },
        "id": "-Vy1gnXZpt73",
        "outputId": "3139bca3-40a8-469e-9689-1269545a4ccc"
      },
      "execution_count": 597,
      "outputs": [
        {
          "output_type": "stream",
          "name": "stdout",
          "text": [
            "201 5\n"
          ]
        }
      ]
    },
    {
      "cell_type": "markdown",
      "source": [
        "## Transform"
      ],
      "metadata": {
        "id": "ORvOZaOwwAMd"
      }
    },
    {
      "cell_type": "code",
      "source": [
        "# Only include relevant columns in dataframe\n",
        "life_expectancy_df = life_expectancy_df.select([\"Region/Country/Area\", \"Value\"])"
      ],
      "metadata": {
        "id": "XPwOjCtOpt3J"
      },
      "execution_count": 598,
      "outputs": []
    },
    {
      "cell_type": "code",
      "source": [
        "# Rename Columns\n",
        "life_expectancy_df = life_expectancy_df.withColumnRenamed(\"Region/Country/Area\", \"country_code\")\n",
        "life_expectancy_df = life_expectancy_df.withColumnRenamed(\"Value\", \"life_expectancy\")"
      ],
      "metadata": {
        "id": "fFG1wloDpt0k"
      },
      "execution_count": 599,
      "outputs": []
    },
    {
      "cell_type": "code",
      "source": [
        "# Drop Nulls\n",
        "life_expectancy_df = life_expectancy_df.dropna()"
      ],
      "metadata": {
        "id": "Pa_yonawptx1"
      },
      "execution_count": 600,
      "outputs": []
    },
    {
      "cell_type": "code",
      "source": [
        "# Row and column count post-cleaning\n",
        "print(life_expectancy_df.count(), len(life_expectancy_df.columns))"
      ],
      "metadata": {
        "colab": {
          "base_uri": "https://localhost:8080/"
        },
        "id": "QJ--dAbuptre",
        "outputId": "b0921760-39a1-467e-ea5e-21d5e2ddcbf5"
      },
      "execution_count": 601,
      "outputs": [
        {
          "output_type": "stream",
          "name": "stdout",
          "text": [
            "201 2\n"
          ]
        }
      ]
    },
    {
      "cell_type": "code",
      "source": [
        "life_expectancy_df.show()\n",
        "life_expectancy_df.dtypes"
      ],
      "metadata": {
        "colab": {
          "base_uri": "https://localhost:8080/"
        },
        "id": "rKdBzSNWptmE",
        "outputId": "8f2ba6db-29f7-489a-eeba-2b5f89edfce8"
      },
      "execution_count": 602,
      "outputs": [
        {
          "output_type": "stream",
          "name": "stdout",
          "text": [
            "+------------+---------------+\n",
            "|country_code|life_expectancy|\n",
            "+------------+---------------+\n",
            "|           4|           64.3|\n",
            "|           8|           78.4|\n",
            "|          12|           76.6|\n",
            "|          24|           60.5|\n",
            "|          28|           76.8|\n",
            "|          32|           76.4|\n",
            "|          51|           74.9|\n",
            "|         533|           76.1|\n",
            "|          36|           83.2|\n",
            "|          40|           81.4|\n",
            "|          31|           72.8|\n",
            "|          44|           73.7|\n",
            "|          48|           77.1|\n",
            "|          50|           72.2|\n",
            "|          52|           79.0|\n",
            "|         112|           74.5|\n",
            "|          56|           81.4|\n",
            "|          84|           74.4|\n",
            "|         204|           61.3|\n",
            "|          64|           71.3|\n",
            "+------------+---------------+\n",
            "only showing top 20 rows\n",
            "\n"
          ]
        },
        {
          "output_type": "execute_result",
          "data": {
            "text/plain": [
              "[('country_code', 'int'), ('life_expectancy', 'double')]"
            ]
          },
          "metadata": {},
          "execution_count": 602
        }
      ]
    },
    {
      "cell_type": "markdown",
      "source": [
        "## Load"
      ],
      "metadata": {
        "id": "bSJR6-ukwCn8"
      }
    },
    {
      "cell_type": "markdown",
      "source": [
        "\n",
        "\n",
        "---\n",
        "\n"
      ],
      "metadata": {
        "id": "7967B2ocUvhJ"
      }
    },
    {
      "cell_type": "markdown",
      "source": [
        "# 9 - pop_density_df"
      ],
      "metadata": {
        "id": "gR762DuxUwLA"
      }
    },
    {
      "cell_type": "markdown",
      "source": [
        "## Extract"
      ],
      "metadata": {
        "id": "sd38ahKrwGu2"
      }
    },
    {
      "cell_type": "code",
      "source": [
        "# Read in Population Density data from S3 Bucket\n",
        "url = \"https://corti-gw-group-project.s3.amazonaws.com/Unprocessed+Data/UN_Population_Density_2019.csv\"\n",
        "spark.sparkContext.addFile(url)\n",
        "pop_density_df = spark.read.csv(SparkFiles.get(\"UN_Population_Density_2019.csv\"), sep=\",\", header=True, inferSchema=True)"
      ],
      "metadata": {
        "id": "AtNsmVXhJQza"
      },
      "execution_count": 603,
      "outputs": []
    },
    {
      "cell_type": "code",
      "source": [
        "pop_density_df.show()\n",
        "pop_density_df.dtypes"
      ],
      "metadata": {
        "colab": {
          "base_uri": "https://localhost:8080/"
        },
        "id": "aZrj2jirJbFo",
        "outputId": "7ed8c475-e040-4c7f-acfd-3cb7052d0e81"
      },
      "execution_count": 604,
      "outputs": [
        {
          "output_type": "stream",
          "name": "stdout",
          "text": [
            "+-------------------+-------------------+----+------------------+------+\n",
            "|Region/Country/Area|                _c1|Year|            Series| Value|\n",
            "+-------------------+-------------------+----+------------------+------+\n",
            "|                  4|        Afghanistan|2019|Population density|  58.3|\n",
            "|                  8|            Albania|2019|Population density| 105.1|\n",
            "|                 12|            Algeria|2019|Population density|  18.1|\n",
            "|                 16|     American Samoa|2019|Population density| 276.6|\n",
            "|                 20|            Andorra|2019|Population density| 164.1|\n",
            "|                 24|             Angola|2019|Population density|  25.5|\n",
            "|                660|           Anguilla|2019|Population density| 165.2|\n",
            "|                 28|Antigua and Barbuda|2019|Population density| 220.7|\n",
            "|                 32|          Argentina|2019|Population density|  16.4|\n",
            "|                 51|            Armenia|2019|Population density| 103.9|\n",
            "|                533|              Aruba|2019|Population density| 590.6|\n",
            "|                 36|          Australia|2019|Population density|   3.3|\n",
            "|                 40|            Austria|2019|Population density| 108.7|\n",
            "|                 31|         Azerbaijan|2019|Population density| 121.6|\n",
            "|                 44|            Bahamas|2019|Population density|  38.9|\n",
            "|                 48|            Bahrain|2019|Population density|2159.4|\n",
            "|                 50|         Bangladesh|2019|Population density|1252.6|\n",
            "|                 52|           Barbados|2019|Population density| 667.5|\n",
            "|                112|            Belarus|2019|Population density|  46.6|\n",
            "|                 56|            Belgium|2019|Population density| 381.1|\n",
            "+-------------------+-------------------+----+------------------+------+\n",
            "only showing top 20 rows\n",
            "\n"
          ]
        },
        {
          "output_type": "execute_result",
          "data": {
            "text/plain": [
              "[('Region/Country/Area', 'int'),\n",
              " ('_c1', 'string'),\n",
              " ('Year', 'int'),\n",
              " ('Series', 'string'),\n",
              " ('Value', 'double')]"
            ]
          },
          "metadata": {},
          "execution_count": 604
        }
      ]
    },
    {
      "cell_type": "code",
      "source": [
        "# Row and column count pre-cleaning\n",
        "print(pop_density_df.count(), len(pop_density_df.columns))"
      ],
      "metadata": {
        "colab": {
          "base_uri": "https://localhost:8080/"
        },
        "id": "iHGTDo2QqOkJ",
        "outputId": "f29496d4-442c-4e20-c0a0-1033a7005b93"
      },
      "execution_count": 605,
      "outputs": [
        {
          "output_type": "stream",
          "name": "stdout",
          "text": [
            "227 5\n"
          ]
        }
      ]
    },
    {
      "cell_type": "markdown",
      "source": [
        "## Transform"
      ],
      "metadata": {
        "id": "_1UmjiQ2wIvP"
      }
    },
    {
      "cell_type": "code",
      "source": [
        "# Only include relevant columns in dataframe\n",
        "pop_density_df = pop_density_df.select([\"Region/Country/Area\", \"Value\"])"
      ],
      "metadata": {
        "id": "4pUFbOeEqOfv"
      },
      "execution_count": 606,
      "outputs": []
    },
    {
      "cell_type": "code",
      "source": [
        "# Rename Columns\n",
        "pop_density_df = pop_density_df.withColumnRenamed(\"Region/Country/Area\", \"country_code\")\n",
        "pop_density_df = pop_density_df.withColumnRenamed(\"Value\", \"population_density\")"
      ],
      "metadata": {
        "id": "TdNwpq72qOci"
      },
      "execution_count": 607,
      "outputs": []
    },
    {
      "cell_type": "code",
      "source": [
        "# Drop Nulls\n",
        "pop_density_df = pop_density_df.dropna()"
      ],
      "metadata": {
        "id": "ImICQbIsqOZG"
      },
      "execution_count": 608,
      "outputs": []
    },
    {
      "cell_type": "code",
      "source": [
        "# Row and column count post-cleaning\n",
        "print(pop_density_df.count(), len(pop_density_df.columns))"
      ],
      "metadata": {
        "colab": {
          "base_uri": "https://localhost:8080/"
        },
        "id": "zapI6tL3qOWR",
        "outputId": "d221a984-8657-45a1-8b79-3b4f2e3bf910"
      },
      "execution_count": 609,
      "outputs": [
        {
          "output_type": "stream",
          "name": "stdout",
          "text": [
            "227 2\n"
          ]
        }
      ]
    },
    {
      "cell_type": "code",
      "source": [
        "pop_density_df.show()\n",
        "pop_density_df.dtypes"
      ],
      "metadata": {
        "colab": {
          "base_uri": "https://localhost:8080/"
        },
        "id": "O8VftijEqONL",
        "outputId": "d686668e-2b91-4f0a-e942-89d104a82d90"
      },
      "execution_count": 610,
      "outputs": [
        {
          "output_type": "stream",
          "name": "stdout",
          "text": [
            "+------------+------------------+\n",
            "|country_code|population_density|\n",
            "+------------+------------------+\n",
            "|           4|              58.3|\n",
            "|           8|             105.1|\n",
            "|          12|              18.1|\n",
            "|          16|             276.6|\n",
            "|          20|             164.1|\n",
            "|          24|              25.5|\n",
            "|         660|             165.2|\n",
            "|          28|             220.7|\n",
            "|          32|              16.4|\n",
            "|          51|             103.9|\n",
            "|         533|             590.6|\n",
            "|          36|               3.3|\n",
            "|          40|             108.7|\n",
            "|          31|             121.6|\n",
            "|          44|              38.9|\n",
            "|          48|            2159.4|\n",
            "|          50|            1252.6|\n",
            "|          52|             667.5|\n",
            "|         112|              46.6|\n",
            "|          56|             381.1|\n",
            "+------------+------------------+\n",
            "only showing top 20 rows\n",
            "\n"
          ]
        },
        {
          "output_type": "execute_result",
          "data": {
            "text/plain": [
              "[('country_code', 'int'), ('population_density', 'double')]"
            ]
          },
          "metadata": {},
          "execution_count": 610
        }
      ]
    },
    {
      "cell_type": "markdown",
      "source": [
        "## Load"
      ],
      "metadata": {
        "id": "N8Of0sv9wLgi"
      }
    },
    {
      "cell_type": "markdown",
      "source": [
        "\n",
        "\n",
        "---\n",
        "\n"
      ],
      "metadata": {
        "id": "57PYfVF4U1Gy"
      }
    },
    {
      "cell_type": "markdown",
      "source": [
        "# 10 - women_seats_df"
      ],
      "metadata": {
        "id": "12W2Z9HsU2FU"
      }
    },
    {
      "cell_type": "markdown",
      "source": [
        "## Extract"
      ],
      "metadata": {
        "id": "zveXz_dlwPCc"
      }
    },
    {
      "cell_type": "code",
      "source": [
        "# Read in Women Seats in Government data from S3 Bucket\n",
        "url = \"https://corti-gw-group-project.s3.amazonaws.com/Unprocessed+Data/UN_Seats_Held_by_Women_2019.csv\"\n",
        "spark.sparkContext.addFile(url)\n",
        "women_seats_df = spark.read.csv(SparkFiles.get(\"UN_Seats_Held_by_Women_2019.csv\"), sep=\",\", header=True, inferSchema=True)"
      ],
      "metadata": {
        "id": "Rgjd_WRlJdQk"
      },
      "execution_count": 611,
      "outputs": []
    },
    {
      "cell_type": "code",
      "source": [
        "women_seats_df.show()\n",
        "women_seats_df.dtypes"
      ],
      "metadata": {
        "colab": {
          "base_uri": "https://localhost:8080/"
        },
        "id": "hJcEE0ngJo8h",
        "outputId": "3713ad9e-29fa-4fde-9b15-6450a3085052"
      },
      "execution_count": 612,
      "outputs": [
        {
          "output_type": "stream",
          "name": "stdout",
          "text": [
            "+-------------------+--------------------+----+--------------------+------------------+---------------------------+-----+\n",
            "|Region/Country/Area|                 _c1|Year|              Series|Last Election Date|Last Election Date footnote|Value|\n",
            "+-------------------+--------------------+----+--------------------+------------------+---------------------------+-----+\n",
            "|                  8|             Albania|2019|Seats held by wom...|           2017-06|                       null| 29.3|\n",
            "|                 12|             Algeria|2019|Seats held by wom...|           2017-05|                       null| 25.8|\n",
            "|                 20|             Andorra|2019|Seats held by wom...|           2019-04|                       null| 32.1|\n",
            "|                 24|              Angola|2019|Seats held by wom...|           2017-08|                       null| 30.0|\n",
            "|                 28| Antigua and Barbuda|2019|Seats held by wom...|           2018-03|                       null| 11.1|\n",
            "|                 32|           Argentina|2019|Seats held by wom...|           2019-10|                       null| 38.8|\n",
            "|                 51|             Armenia|2019|Seats held by wom...|           2018-12|                       null| 24.2|\n",
            "|                 36|           Australia|2019|Seats held by wom...|           2019-05|                       null| 30.0|\n",
            "|                 40|             Austria|2019|Seats held by wom...|           2019-09|                       null| 37.2|\n",
            "|                 31|          Azerbaijan|2019|Seats held by wom...|           2020-02|                       null| 16.8|\n",
            "|                 44|             Bahamas|2019|Seats held by wom...|           2017-05|                       null| 12.8|\n",
            "|                 48|             Bahrain|2019|Seats held by wom...|           2018-11|                       null| 15.0|\n",
            "|                 50|          Bangladesh|2019|Seats held by wom...|           2018-12|                       null| 20.7|\n",
            "|                 52|            Barbados|2019|Seats held by wom...|           2018-05|                       null| 20.0|\n",
            "|                112|             Belarus|2019|Seats held by wom...|           2019-11|                       null| 34.5|\n",
            "|                 56|             Belgium|2019|Seats held by wom...|           2019-05|                       null| 38.0|\n",
            "|                 84|              Belize|2019|Seats held by wom...|           2020-11|                       null|  9.4|\n",
            "|                204|               Benin|2019|Seats held by wom...|           2019-04|                       null|  7.2|\n",
            "|                 64|              Bhutan|2019|Seats held by wom...|           2018-10|                       null| 14.9|\n",
            "|                 68|Bolivia (Plurin. ...|2019|Seats held by wom...|           2020-10|                       null| 53.1|\n",
            "+-------------------+--------------------+----+--------------------+------------------+---------------------------+-----+\n",
            "only showing top 20 rows\n",
            "\n"
          ]
        },
        {
          "output_type": "execute_result",
          "data": {
            "text/plain": [
              "[('Region/Country/Area', 'int'),\n",
              " ('_c1', 'string'),\n",
              " ('Year', 'int'),\n",
              " ('Series', 'string'),\n",
              " ('Last Election Date', 'string'),\n",
              " ('Last Election Date footnote', 'string'),\n",
              " ('Value', 'double')]"
            ]
          },
          "metadata": {},
          "execution_count": 612
        }
      ]
    },
    {
      "cell_type": "code",
      "source": [
        "# Row and column count pre-cleaning\n",
        "print(women_seats_df.count(), len(women_seats_df.columns))"
      ],
      "metadata": {
        "colab": {
          "base_uri": "https://localhost:8080/"
        },
        "id": "iQH7acUjqwbj",
        "outputId": "6ccede72-65c5-48ae-c4d5-135c9fbd08af"
      },
      "execution_count": 613,
      "outputs": [
        {
          "output_type": "stream",
          "name": "stdout",
          "text": [
            "192 7\n"
          ]
        }
      ]
    },
    {
      "cell_type": "markdown",
      "source": [
        "## Transform"
      ],
      "metadata": {
        "id": "QL2OBLYBwRAo"
      }
    },
    {
      "cell_type": "code",
      "source": [
        "# Only include relevant columns in dataframe\n",
        "women_seats_df = women_seats_df.select([\"Region/Country/Area\", \"Value\"])"
      ],
      "metadata": {
        "id": "3Ex1UgF6qwXA"
      },
      "execution_count": 614,
      "outputs": []
    },
    {
      "cell_type": "code",
      "source": [
        "# Rename Columns\n",
        "women_seats_df = women_seats_df.withColumnRenamed(\"Region/Country/Area\", \"country_code\")\n",
        "women_seats_df = women_seats_df.withColumnRenamed(\"Value\", \"seats_held_by_women_pct\")"
      ],
      "metadata": {
        "id": "sfXqdQS3qwS6"
      },
      "execution_count": 615,
      "outputs": []
    },
    {
      "cell_type": "code",
      "source": [
        "# Drop Nulls\n",
        "women_seats_df = women_seats_df.dropna()"
      ],
      "metadata": {
        "id": "jbjH7poBqwPa"
      },
      "execution_count": 616,
      "outputs": []
    },
    {
      "cell_type": "code",
      "source": [
        "# Row and column count post-cleaning\n",
        "print(women_seats_df.count(), len(women_seats_df.columns))"
      ],
      "metadata": {
        "colab": {
          "base_uri": "https://localhost:8080/"
        },
        "id": "OGsUnj2SqwLk",
        "outputId": "e6f63f3d-01fa-4eed-94fa-a92c6faae7bc"
      },
      "execution_count": 617,
      "outputs": [
        {
          "output_type": "stream",
          "name": "stdout",
          "text": [
            "192 2\n"
          ]
        }
      ]
    },
    {
      "cell_type": "code",
      "source": [
        "women_seats_df.show()\n",
        "women_seats_df.dtypes"
      ],
      "metadata": {
        "colab": {
          "base_uri": "https://localhost:8080/"
        },
        "id": "D3PReGpRqwEm",
        "outputId": "d24e924f-f605-4c3c-c61c-cfabe6402f27"
      },
      "execution_count": 618,
      "outputs": [
        {
          "output_type": "stream",
          "name": "stdout",
          "text": [
            "+------------+-----------------------+\n",
            "|country_code|seats_held_by_women_pct|\n",
            "+------------+-----------------------+\n",
            "|           8|                   29.3|\n",
            "|          12|                   25.8|\n",
            "|          20|                   32.1|\n",
            "|          24|                   30.0|\n",
            "|          28|                   11.1|\n",
            "|          32|                   38.8|\n",
            "|          51|                   24.2|\n",
            "|          36|                   30.0|\n",
            "|          40|                   37.2|\n",
            "|          31|                   16.8|\n",
            "|          44|                   12.8|\n",
            "|          48|                   15.0|\n",
            "|          50|                   20.7|\n",
            "|          52|                   20.0|\n",
            "|         112|                   34.5|\n",
            "|          56|                   38.0|\n",
            "|          84|                    9.4|\n",
            "|         204|                    7.2|\n",
            "|          64|                   14.9|\n",
            "|          68|                   53.1|\n",
            "+------------+-----------------------+\n",
            "only showing top 20 rows\n",
            "\n"
          ]
        },
        {
          "output_type": "execute_result",
          "data": {
            "text/plain": [
              "[('country_code', 'int'), ('seats_held_by_women_pct', 'double')]"
            ]
          },
          "metadata": {},
          "execution_count": 618
        }
      ]
    },
    {
      "cell_type": "markdown",
      "source": [
        "## Load"
      ],
      "metadata": {
        "id": "bt6DKOpmwUE2"
      }
    },
    {
      "cell_type": "markdown",
      "source": [
        "\n",
        "\n",
        "---\n",
        "\n"
      ],
      "metadata": {
        "id": "tG1LLvEbU5HZ"
      }
    },
    {
      "cell_type": "markdown",
      "source": [
        "# 11 - unemployment_rate_df\n",
        "\n"
      ],
      "metadata": {
        "id": "RpjQAqY8U5rn"
      }
    },
    {
      "cell_type": "markdown",
      "source": [
        "## Extract"
      ],
      "metadata": {
        "id": "JMGcQDMMwYb6"
      }
    },
    {
      "cell_type": "code",
      "source": [
        "# Read in Unemployment Rate data from S3 Bucket\n",
        "url = \"https://corti-gw-group-project.s3.amazonaws.com/Unprocessed+Data/UN_Unemployment_Rate_2020.csv\"\n",
        "spark.sparkContext.addFile(url)\n",
        "unemployment_rate_df = spark.read.csv(SparkFiles.get(\"UN_Unemployment_Rate_2020.csv\"), sep=\",\", header=True, inferSchema=True)"
      ],
      "metadata": {
        "id": "frEfpyTMJrW0"
      },
      "execution_count": 619,
      "outputs": []
    },
    {
      "cell_type": "code",
      "source": [
        "unemployment_rate_df.show()\n",
        "unemployment_rate_df.dtypes"
      ],
      "metadata": {
        "colab": {
          "base_uri": "https://localhost:8080/"
        },
        "id": "CWEPgtt2KDHz",
        "outputId": "569660f1-ee79-4471-83a3-959682df2295"
      },
      "execution_count": 620,
      "outputs": [
        {
          "output_type": "stream",
          "name": "stdout",
          "text": [
            "+-------------------+--------------------+----+--------------------+-----+\n",
            "|Region/Country/Area|                 _c1|Year|              Series|Value|\n",
            "+-------------------+--------------------+----+--------------------+-----+\n",
            "|                  4|         Afghanistan|2020|Unemployment rate...| 11.2|\n",
            "|                  8|             Albania|2020|Unemployment rate...| 12.8|\n",
            "|                 12|             Algeria|2020|Unemployment rate...| 11.5|\n",
            "|                 24|              Angola|2020|Unemployment rate...|  6.8|\n",
            "|                 32|           Argentina|2020|Unemployment rate...| 10.4|\n",
            "|                 51|             Armenia|2020|Unemployment rate...| 16.6|\n",
            "|                 36|           Australia|2020|Unemployment rate...|  5.3|\n",
            "|                 40|             Austria|2020|Unemployment rate...|  4.8|\n",
            "|                 31|          Azerbaijan|2020|Unemployment rate...|  6.0|\n",
            "|                 44|             Bahamas|2020|Unemployment rate...| 11.3|\n",
            "|                 48|             Bahrain|2020|Unemployment rate...|  0.8|\n",
            "|                 50|          Bangladesh|2020|Unemployment rate...|  4.2|\n",
            "|                 52|            Barbados|2020|Unemployment rate...| 10.9|\n",
            "|                112|             Belarus|2020|Unemployment rate...|  4.6|\n",
            "|                 56|             Belgium|2020|Unemployment rate...|  5.7|\n",
            "|                 84|              Belize|2020|Unemployment rate...|  6.4|\n",
            "|                204|               Benin|2020|Unemployment rate...|  2.0|\n",
            "|                 64|              Bhutan|2020|Unemployment rate...|  2.4|\n",
            "|                 68|Bolivia (Plurin. ...|2020|Unemployment rate...|  3.5|\n",
            "|                 70|Bosnia and Herzeg...|2020|Unemployment rate...| 18.4|\n",
            "+-------------------+--------------------+----+--------------------+-----+\n",
            "only showing top 20 rows\n",
            "\n"
          ]
        },
        {
          "output_type": "execute_result",
          "data": {
            "text/plain": [
              "[('Region/Country/Area', 'int'),\n",
              " ('_c1', 'string'),\n",
              " ('Year', 'int'),\n",
              " ('Series', 'string'),\n",
              " ('Value', 'double')]"
            ]
          },
          "metadata": {},
          "execution_count": 620
        }
      ]
    },
    {
      "cell_type": "code",
      "source": [
        "# Row and column count pre-cleaning\n",
        "print(unemployment_rate_df.count(), len(unemployment_rate_df.columns))"
      ],
      "metadata": {
        "colab": {
          "base_uri": "https://localhost:8080/"
        },
        "id": "Alpjx4evrfG6",
        "outputId": "824d4a3b-933d-4059-ebdc-606019ff767f"
      },
      "execution_count": 621,
      "outputs": [
        {
          "output_type": "stream",
          "name": "stdout",
          "text": [
            "188 5\n"
          ]
        }
      ]
    },
    {
      "cell_type": "markdown",
      "source": [
        "## Transform"
      ],
      "metadata": {
        "id": "PWoRIXW_waXu"
      }
    },
    {
      "cell_type": "code",
      "source": [
        "# Only include relevant columns in dataframe\n",
        "unemployment_rate_df = unemployment_rate_df.select([\"Region/Country/Area\", \"Value\"])"
      ],
      "metadata": {
        "id": "UjIljmV8rfCo"
      },
      "execution_count": 622,
      "outputs": []
    },
    {
      "cell_type": "code",
      "source": [
        "# Rename Columns\n",
        "unemployment_rate_df = unemployment_rate_df.withColumnRenamed(\"Region/Country/Area\", \"country_code\")\n",
        "unemployment_rate_df = unemployment_rate_df.withColumnRenamed(\"Value\", \"unemployment_rate\")"
      ],
      "metadata": {
        "id": "GmgvYunhre-X"
      },
      "execution_count": 623,
      "outputs": []
    },
    {
      "cell_type": "code",
      "source": [
        "# Drop Nulls\n",
        "unemployment_rate_df = unemployment_rate_df.dropna()"
      ],
      "metadata": {
        "id": "YsVWPSSYre7K"
      },
      "execution_count": 624,
      "outputs": []
    },
    {
      "cell_type": "code",
      "source": [
        "# Row and column count post-cleaning\n",
        "print(unemployment_rate_df.count(), len(unemployment_rate_df.columns))"
      ],
      "metadata": {
        "colab": {
          "base_uri": "https://localhost:8080/"
        },
        "id": "ZUQRLgBsre3C",
        "outputId": "136516c0-bf8a-496a-f512-a8b4cbf6e9a5"
      },
      "execution_count": 625,
      "outputs": [
        {
          "output_type": "stream",
          "name": "stdout",
          "text": [
            "188 2\n"
          ]
        }
      ]
    },
    {
      "cell_type": "code",
      "source": [
        "unemployment_rate_df.show()\n",
        "unemployment_rate_df.dtypes"
      ],
      "metadata": {
        "colab": {
          "base_uri": "https://localhost:8080/"
        },
        "id": "AM7N_xRErewL",
        "outputId": "73a2ce06-c9cc-4665-aaf7-68a1b00e7806"
      },
      "execution_count": 626,
      "outputs": [
        {
          "output_type": "stream",
          "name": "stdout",
          "text": [
            "+------------+-----------------+\n",
            "|country_code|unemployment_rate|\n",
            "+------------+-----------------+\n",
            "|           4|             11.2|\n",
            "|           8|             12.8|\n",
            "|          12|             11.5|\n",
            "|          24|              6.8|\n",
            "|          32|             10.4|\n",
            "|          51|             16.6|\n",
            "|          36|              5.3|\n",
            "|          40|              4.8|\n",
            "|          31|              6.0|\n",
            "|          44|             11.3|\n",
            "|          48|              0.8|\n",
            "|          50|              4.2|\n",
            "|          52|             10.9|\n",
            "|         112|              4.6|\n",
            "|          56|              5.7|\n",
            "|          84|              6.4|\n",
            "|         204|              2.0|\n",
            "|          64|              2.4|\n",
            "|          68|              3.5|\n",
            "|          70|             18.4|\n",
            "+------------+-----------------+\n",
            "only showing top 20 rows\n",
            "\n"
          ]
        },
        {
          "output_type": "execute_result",
          "data": {
            "text/plain": [
              "[('country_code', 'int'), ('unemployment_rate', 'double')]"
            ]
          },
          "metadata": {},
          "execution_count": 626
        }
      ]
    },
    {
      "cell_type": "markdown",
      "source": [
        "## Load"
      ],
      "metadata": {
        "id": "8nd8C5T8wdGu"
      }
    },
    {
      "cell_type": "markdown",
      "source": [
        "\n",
        "\n",
        "---\n",
        "\n"
      ],
      "metadata": {
        "id": "URq4TAvDU-TV"
      }
    },
    {
      "cell_type": "markdown",
      "source": [
        "# 12 - water_services_df"
      ],
      "metadata": {
        "id": "daiAhUP5U_BN"
      }
    },
    {
      "cell_type": "markdown",
      "source": [
        "## Extract"
      ],
      "metadata": {
        "id": "Ujnsrgf5wiVr"
      }
    },
    {
      "cell_type": "code",
      "source": [
        "# Read in Water Services data from S3 Bucket\n",
        "url = \"https://corti-gw-group-project.s3.amazonaws.com/Unprocessed+Data/UN_Water_Services_2020.csv\"\n",
        "spark.sparkContext.addFile(url)\n",
        "water_services_df = spark.read.csv(SparkFiles.get(\"UN_Water_Services_2020.csv\"), sep=\",\", header=True, inferSchema=True)"
      ],
      "metadata": {
        "id": "ddjbTaVKKFO7"
      },
      "execution_count": 627,
      "outputs": []
    },
    {
      "cell_type": "code",
      "source": [
        "water_services_df.show()\n",
        "water_services_df.dtypes"
      ],
      "metadata": {
        "colab": {
          "base_uri": "https://localhost:8080/"
        },
        "id": "6YpZgE2dKQWp",
        "outputId": "80b7f3bf-cb8a-42ce-e745-473c70ebf487"
      },
      "execution_count": 628,
      "outputs": [
        {
          "output_type": "stream",
          "name": "stdout",
          "text": [
            "+-------------------+--------------------+----+--------------------+-----+\n",
            "|Region/Country/Area|                 _c1|Year|              Series|Value|\n",
            "+-------------------+--------------------+----+--------------------+-----+\n",
            "|                  4|         Afghanistan|2020|Safely managed dr...| 27.6|\n",
            "|                  8|             Albania|2020|Safely managed dr...| 70.7|\n",
            "|                 12|             Algeria|2020|Safely managed dr...| 72.4|\n",
            "|                 16|      American Samoa|2020|Safely managed dr...| 98.4|\n",
            "|                 20|             Andorra|2020|Safely managed dr...| 90.6|\n",
            "|                 51|             Armenia|2020|Safely managed dr...| 86.9|\n",
            "|                 40|             Austria|2020|Safely managed dr...| 98.9|\n",
            "|                 31|          Azerbaijan|2020|Safely managed dr...| 88.3|\n",
            "|                 48|             Bahrain|2020|Safely managed dr...| 99.0|\n",
            "|                 50|          Bangladesh|2020|Safely managed dr...| 58.5|\n",
            "|                112|             Belarus|2020|Safely managed dr...| 94.6|\n",
            "|                 56|             Belgium|2020|Safely managed dr...| 99.9|\n",
            "|                 64|              Bhutan|2020|Safely managed dr...| 36.6|\n",
            "|                 70|Bosnia and Herzeg...|2020|Safely managed dr...| 88.9|\n",
            "|                 76|              Brazil|2020|Safely managed dr...| 85.8|\n",
            "|                100|            Bulgaria|2020|Safely managed dr...| 97.6|\n",
            "|                116|            Cambodia|2020|Safely managed dr...| 27.8|\n",
            "|                124|              Canada|2020|Safely managed dr...| 99.0|\n",
            "|                140|Central African R...|2020|Safely managed dr...|  6.2|\n",
            "|                148|                Chad|2020|Safely managed dr...|  5.6|\n",
            "+-------------------+--------------------+----+--------------------+-----+\n",
            "only showing top 20 rows\n",
            "\n"
          ]
        },
        {
          "output_type": "execute_result",
          "data": {
            "text/plain": [
              "[('Region/Country/Area', 'int'),\n",
              " ('_c1', 'string'),\n",
              " ('Year', 'int'),\n",
              " ('Series', 'string'),\n",
              " ('Value', 'double')]"
            ]
          },
          "metadata": {},
          "execution_count": 628
        }
      ]
    },
    {
      "cell_type": "code",
      "source": [
        "# Row and column count pre-cleaning\n",
        "print(water_services_df.count(), len(water_services_df.columns))"
      ],
      "metadata": {
        "colab": {
          "base_uri": "https://localhost:8080/"
        },
        "id": "PaDugb97tq7u",
        "outputId": "104eaec5-6a95-4d90-e7bc-641e7b0f37ba"
      },
      "execution_count": 629,
      "outputs": [
        {
          "output_type": "stream",
          "name": "stdout",
          "text": [
            "138 5\n"
          ]
        }
      ]
    },
    {
      "cell_type": "markdown",
      "source": [
        "## Transform"
      ],
      "metadata": {
        "id": "3dW_lBB_wj7U"
      }
    },
    {
      "cell_type": "code",
      "source": [
        "# Only include relevant columns in dataframe\n",
        "water_services_df = water_services_df.select([\"Region/Country/Area\", \"Value\"])"
      ],
      "metadata": {
        "id": "w-H99uy2tq4i"
      },
      "execution_count": 630,
      "outputs": []
    },
    {
      "cell_type": "code",
      "source": [
        "# Rename Columns\n",
        "water_services_df = water_services_df.withColumnRenamed(\"Region/Country/Area\", \"country_code\")\n",
        "water_services_df = water_services_df.withColumnRenamed(\"Value\", \"safe_drinking_water_access_pct\")"
      ],
      "metadata": {
        "id": "Erm1swcztq03"
      },
      "execution_count": 631,
      "outputs": []
    },
    {
      "cell_type": "code",
      "source": [
        "# Drop Nulls\n",
        "water_services_df = water_services_df.dropna()"
      ],
      "metadata": {
        "id": "8lzUtrR6tqxe"
      },
      "execution_count": 632,
      "outputs": []
    },
    {
      "cell_type": "code",
      "source": [
        "# Row and column count post-cleaning\n",
        "print(water_services_df.count(), len(water_services_df.columns))"
      ],
      "metadata": {
        "colab": {
          "base_uri": "https://localhost:8080/"
        },
        "id": "3wESY2i5tquN",
        "outputId": "674727cd-3600-4be2-f5ab-4765421c6de6"
      },
      "execution_count": 633,
      "outputs": [
        {
          "output_type": "stream",
          "name": "stdout",
          "text": [
            "138 2\n"
          ]
        }
      ]
    },
    {
      "cell_type": "code",
      "source": [
        "water_services_df.show()\n",
        "water_services_df.dtypes"
      ],
      "metadata": {
        "colab": {
          "base_uri": "https://localhost:8080/"
        },
        "id": "3NaOJhl5tqnD",
        "outputId": "ffeb482e-698b-4700-e643-8ca0178f97fa"
      },
      "execution_count": 634,
      "outputs": [
        {
          "output_type": "stream",
          "name": "stdout",
          "text": [
            "+------------+------------------------------+\n",
            "|country_code|safe_drinking_water_access_pct|\n",
            "+------------+------------------------------+\n",
            "|           4|                          27.6|\n",
            "|           8|                          70.7|\n",
            "|          12|                          72.4|\n",
            "|          16|                          98.4|\n",
            "|          20|                          90.6|\n",
            "|          51|                          86.9|\n",
            "|          40|                          98.9|\n",
            "|          31|                          88.3|\n",
            "|          48|                          99.0|\n",
            "|          50|                          58.5|\n",
            "|         112|                          94.6|\n",
            "|          56|                          99.9|\n",
            "|          64|                          36.6|\n",
            "|          70|                          88.9|\n",
            "|          76|                          85.8|\n",
            "|         100|                          97.6|\n",
            "|         116|                          27.8|\n",
            "|         124|                          99.0|\n",
            "|         140|                           6.2|\n",
            "|         148|                           5.6|\n",
            "+------------+------------------------------+\n",
            "only showing top 20 rows\n",
            "\n"
          ]
        },
        {
          "output_type": "execute_result",
          "data": {
            "text/plain": [
              "[('country_code', 'int'), ('safe_drinking_water_access_pct', 'double')]"
            ]
          },
          "metadata": {},
          "execution_count": 634
        }
      ]
    },
    {
      "cell_type": "markdown",
      "source": [
        "## Load"
      ],
      "metadata": {
        "id": "w20YglX3wmOo"
      }
    }
  ]
}